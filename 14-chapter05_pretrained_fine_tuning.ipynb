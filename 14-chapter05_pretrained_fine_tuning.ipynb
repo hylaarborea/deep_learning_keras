{
 "cells": [
  {
   "cell_type": "markdown",
   "metadata": {
    "collapsed": true
   },
   "source": [
    "# Cats and dogs with pretrained convnet (III - fine tuning)"
   ]
  },
  {
   "cell_type": "code",
   "execution_count": 1,
   "metadata": {
    "ExecuteTime": {
     "end_time": "2018-08-19T07:47:06.393491Z",
     "start_time": "2018-08-19T07:47:02.774543Z"
    }
   },
   "outputs": [
    {
     "name": "stderr",
     "output_type": "stream",
     "text": [
      "Using TensorFlow backend.\n"
     ]
    }
   ],
   "source": [
    "from keras import models\n",
    "from keras import layers\n",
    "\n",
    "from keras.preprocessing.image import ImageDataGenerator\n",
    "from keras.applications.vgg16 import preprocess_input\n",
    "\n",
    "from keras import optimizers\n",
    "\n",
    "from keras.applications import VGG16\n",
    "\n",
    "import os\n",
    "import matplotlib.pyplot as plt"
   ]
  },
  {
   "cell_type": "markdown",
   "metadata": {},
   "source": [
    "# Define folders"
   ]
  },
  {
   "cell_type": "code",
   "execution_count": 2,
   "metadata": {
    "ExecuteTime": {
     "end_time": "2018-08-19T07:47:06.421952Z",
     "start_time": "2018-08-19T07:47:06.413007Z"
    }
   },
   "outputs": [],
   "source": [
    "base_dir = './cats_and_dogs_small/'"
   ]
  },
  {
   "cell_type": "code",
   "execution_count": 3,
   "metadata": {
    "ExecuteTime": {
     "end_time": "2018-08-19T07:47:06.532766Z",
     "start_time": "2018-08-19T07:47:06.427533Z"
    }
   },
   "outputs": [],
   "source": [
    "train_dir = os.path.join(base_dir, 'train')\n",
    "validation_dir = os.path.join(base_dir, 'validation')\n",
    "test_dir = os.path.join(base_dir, 'test')"
   ]
  },
  {
   "cell_type": "markdown",
   "metadata": {},
   "source": [
    "# Load pretrained convnet"
   ]
  },
  {
   "cell_type": "code",
   "execution_count": 4,
   "metadata": {
    "ExecuteTime": {
     "end_time": "2018-08-19T07:47:18.741035Z",
     "start_time": "2018-08-19T07:47:06.540328Z"
    }
   },
   "outputs": [],
   "source": [
    "conv_base = VGG16(weights='imagenet', include_top=False, input_shape=(150, 150, 3))"
   ]
  },
  {
   "cell_type": "markdown",
   "metadata": {},
   "source": [
    "# Define total model"
   ]
  },
  {
   "cell_type": "code",
   "execution_count": 5,
   "metadata": {
    "ExecuteTime": {
     "end_time": "2018-08-19T07:47:20.032534Z",
     "start_time": "2018-08-19T07:47:18.763414Z"
    }
   },
   "outputs": [],
   "source": [
    "model = models.Sequential()\n",
    "model.add(conv_base)\n",
    "model.add(layers.Flatten())\n",
    "model.add(layers.Dense(256, activation='relu'))\n",
    "model.add(layers.Dense(1, activation='sigmoid'))"
   ]
  },
  {
   "cell_type": "code",
   "execution_count": 6,
   "metadata": {
    "ExecuteTime": {
     "end_time": "2018-08-19T07:47:22.208036Z",
     "start_time": "2018-08-19T07:47:20.054490Z"
    }
   },
   "outputs": [
    {
     "name": "stdout",
     "output_type": "stream",
     "text": [
      "_________________________________________________________________\n",
      "Layer (type)                 Output Shape              Param #   \n",
      "=================================================================\n",
      "vgg16 (Model)                (None, 4, 4, 512)         14714688  \n",
      "_________________________________________________________________\n",
      "flatten_1 (Flatten)          (None, 8192)              0         \n",
      "_________________________________________________________________\n",
      "dense_1 (Dense)              (None, 256)               2097408   \n",
      "_________________________________________________________________\n",
      "dense_2 (Dense)              (None, 1)                 257       \n",
      "=================================================================\n",
      "Total params: 16,812,353\n",
      "Trainable params: 16,812,353\n",
      "Non-trainable params: 0\n",
      "_________________________________________________________________\n"
     ]
    }
   ],
   "source": [
    "model.summary()"
   ]
  },
  {
   "cell_type": "code",
   "execution_count": 7,
   "metadata": {
    "ExecuteTime": {
     "end_time": "2018-08-19T07:47:22.238314Z",
     "start_time": "2018-08-19T07:47:22.219355Z"
    }
   },
   "outputs": [
    {
     "name": "stdout",
     "output_type": "stream",
     "text": [
      "This is the number of trainable weight tensor before freezing the conv base: 30\n"
     ]
    }
   ],
   "source": [
    "print('This is the number of trainable weight tensor before freezing the conv base:', len(model.trainable_weights))"
   ]
  },
  {
   "cell_type": "code",
   "execution_count": 8,
   "metadata": {
    "ExecuteTime": {
     "end_time": "2018-08-19T07:47:22.339841Z",
     "start_time": "2018-08-19T07:47:22.253404Z"
    }
   },
   "outputs": [],
   "source": [
    "#model.trainable_weights"
   ]
  },
  {
   "cell_type": "code",
   "execution_count": 9,
   "metadata": {
    "ExecuteTime": {
     "end_time": "2018-08-19T07:47:22.463038Z",
     "start_time": "2018-08-19T07:47:22.349201Z"
    }
   },
   "outputs": [],
   "source": [
    "conv_base.trainable = False"
   ]
  },
  {
   "cell_type": "code",
   "execution_count": 10,
   "metadata": {
    "ExecuteTime": {
     "end_time": "2018-08-19T07:47:22.555263Z",
     "start_time": "2018-08-19T07:47:22.471037Z"
    }
   },
   "outputs": [
    {
     "name": "stdout",
     "output_type": "stream",
     "text": [
      "This is the number of trainable weight tensors after freezing the conv base: 4\n"
     ]
    }
   ],
   "source": [
    "print('This is the number of trainable weight tensors after freezing the conv base:', len(model.trainable_weights))"
   ]
  },
  {
   "cell_type": "code",
   "execution_count": 11,
   "metadata": {
    "ExecuteTime": {
     "end_time": "2018-08-19T07:47:22.683380Z",
     "start_time": "2018-08-19T07:47:22.562110Z"
    }
   },
   "outputs": [
    {
     "data": {
      "text/plain": [
       "[<tf.Variable 'dense_1/kernel:0' shape=(8192, 256) dtype=float32_ref>,\n",
       " <tf.Variable 'dense_1/bias:0' shape=(256,) dtype=float32_ref>,\n",
       " <tf.Variable 'dense_2/kernel:0' shape=(256, 1) dtype=float32_ref>,\n",
       " <tf.Variable 'dense_2/bias:0' shape=(1,) dtype=float32_ref>]"
      ]
     },
     "execution_count": 11,
     "metadata": {},
     "output_type": "execute_result"
    }
   ],
   "source": [
    "model.trainable_weights"
   ]
  },
  {
   "cell_type": "markdown",
   "metadata": {},
   "source": [
    "# Data augmentation configuration"
   ]
  },
  {
   "cell_type": "code",
   "execution_count": 12,
   "metadata": {
    "ExecuteTime": {
     "end_time": "2018-08-19T07:47:22.737937Z",
     "start_time": "2018-08-19T07:47:22.697368Z"
    }
   },
   "outputs": [],
   "source": [
    "train_datagen = ImageDataGenerator(preprocessing_function=preprocess_input, rotation_range=40, width_shift_range=0.2, \n",
    "    height_shift_range=0.2, shear_range=0.2, zoom_range=0.2, horizontal_flip=True, fill_mode='nearest')"
   ]
  },
  {
   "cell_type": "code",
   "execution_count": 13,
   "metadata": {
    "ExecuteTime": {
     "end_time": "2018-08-19T07:47:22.874877Z",
     "start_time": "2018-08-19T07:47:22.743747Z"
    }
   },
   "outputs": [],
   "source": [
    "test_datagen = ImageDataGenerator(preprocessing_function=preprocess_input)"
   ]
  },
  {
   "cell_type": "code",
   "execution_count": 14,
   "metadata": {
    "ExecuteTime": {
     "end_time": "2018-08-19T07:47:23.355692Z",
     "start_time": "2018-08-19T07:47:22.892413Z"
    }
   },
   "outputs": [
    {
     "name": "stdout",
     "output_type": "stream",
     "text": [
      "Found 2000 images belonging to 2 classes.\n"
     ]
    }
   ],
   "source": [
    "train_generator = train_datagen.flow_from_directory(train_dir, target_size=(150, 150), batch_size=20, class_mode='binary')"
   ]
  },
  {
   "cell_type": "code",
   "execution_count": 15,
   "metadata": {
    "ExecuteTime": {
     "end_time": "2018-08-19T07:47:23.709428Z",
     "start_time": "2018-08-19T07:47:23.374000Z"
    }
   },
   "outputs": [
    {
     "name": "stdout",
     "output_type": "stream",
     "text": [
      "Found 1000 images belonging to 2 classes.\n"
     ]
    }
   ],
   "source": [
    "validation_generator = test_datagen.flow_from_directory(validation_dir, target_size=(150, 150), batch_size=20, \n",
    "                                                        class_mode='binary')"
   ]
  },
  {
   "cell_type": "markdown",
   "metadata": {},
   "source": [
    "# Compile"
   ]
  },
  {
   "cell_type": "code",
   "execution_count": 16,
   "metadata": {
    "ExecuteTime": {
     "end_time": "2018-08-19T07:47:23.829830Z",
     "start_time": "2018-08-19T07:47:23.722432Z"
    }
   },
   "outputs": [],
   "source": [
    "model.compile(loss='binary_crossentropy', optimizer=optimizers.RMSprop(lr=2e-5), metrics=['acc'])"
   ]
  },
  {
   "cell_type": "markdown",
   "metadata": {},
   "source": [
    "# Fit"
   ]
  },
  {
   "cell_type": "code",
   "execution_count": 17,
   "metadata": {},
   "outputs": [],
   "source": [
    "#Note: steps_per_epoch=100 so 2000/20=100 where 20 is the dimension of the batch and 2000 is the total train images\n",
    "#NOT valid anymore because now there are many more figures, not just 2000!!!!"
   ]
  },
  {
   "cell_type": "code",
   "execution_count": 18,
   "metadata": {
    "ExecuteTime": {
     "end_time": "2018-08-19T09:11:46.386060Z",
     "start_time": "2018-08-19T08:26:12.971614Z"
    }
   },
   "outputs": [
    {
     "name": "stdout",
     "output_type": "stream",
     "text": [
      "Epoch 1/30\n",
      "200/200 [==============================] - 22s 111ms/step - loss: 1.3706 - acc: 0.8357 - val_loss: 0.5343 - val_acc: 0.9270\n",
      "Epoch 2/30\n",
      "200/200 [==============================] - 21s 106ms/step - loss: 0.7298 - acc: 0.9002 - val_loss: 0.3262 - val_acc: 0.9600\n",
      "Epoch 3/30\n",
      "200/200 [==============================] - 21s 106ms/step - loss: 0.6026 - acc: 0.9172 - val_loss: 0.3518 - val_acc: 0.9560\n",
      "Epoch 4/30\n",
      "200/200 [==============================] - 21s 107ms/step - loss: 0.4375 - acc: 0.9325 - val_loss: 0.3323 - val_acc: 0.9580\n",
      "Epoch 5/30\n",
      "200/200 [==============================] - 21s 106ms/step - loss: 0.4228 - acc: 0.9365 - val_loss: 0.3041 - val_acc: 0.9660\n",
      "Epoch 6/30\n",
      "200/200 [==============================] - 21s 106ms/step - loss: 0.3940 - acc: 0.9405 - val_loss: 0.2849 - val_acc: 0.9660\n",
      "Epoch 7/30\n",
      "200/200 [==============================] - 21s 106ms/step - loss: 0.3558 - acc: 0.9462 - val_loss: 0.2605 - val_acc: 0.9690\n",
      "Epoch 8/30\n",
      "200/200 [==============================] - 21s 106ms/step - loss: 0.3676 - acc: 0.9460 - val_loss: 0.2715 - val_acc: 0.9700\n",
      "Epoch 9/30\n",
      "200/200 [==============================] - 21s 106ms/step - loss: 0.2922 - acc: 0.9575 - val_loss: 0.2467 - val_acc: 0.9690\n",
      "Epoch 10/30\n",
      "200/200 [==============================] - 21s 106ms/step - loss: 0.2818 - acc: 0.9542 - val_loss: 0.2685 - val_acc: 0.9670\n",
      "Epoch 11/30\n",
      "200/200 [==============================] - 21s 106ms/step - loss: 0.2319 - acc: 0.9615 - val_loss: 0.2582 - val_acc: 0.9640\n",
      "Epoch 12/30\n",
      "200/200 [==============================] - 21s 106ms/step - loss: 0.2906 - acc: 0.9560 - val_loss: 0.2226 - val_acc: 0.9690\n",
      "Epoch 13/30\n",
      "200/200 [==============================] - 21s 106ms/step - loss: 0.2250 - acc: 0.9630 - val_loss: 0.2123 - val_acc: 0.9690\n",
      "Epoch 14/30\n",
      "200/200 [==============================] - 21s 106ms/step - loss: 0.2494 - acc: 0.9580 - val_loss: 0.1972 - val_acc: 0.9720\n",
      "Epoch 15/30\n",
      "200/200 [==============================] - 21s 106ms/step - loss: 0.2243 - acc: 0.9632 - val_loss: 0.1877 - val_acc: 0.9750\n",
      "Epoch 16/30\n",
      "200/200 [==============================] - 21s 107ms/step - loss: 0.2413 - acc: 0.9582 - val_loss: 0.2082 - val_acc: 0.9700\n",
      "Epoch 17/30\n",
      "200/200 [==============================] - 21s 107ms/step - loss: 0.2257 - acc: 0.9580 - val_loss: 0.2204 - val_acc: 0.9720\n",
      "Epoch 18/30\n",
      "200/200 [==============================] - 21s 106ms/step - loss: 0.2053 - acc: 0.9635 - val_loss: 0.2181 - val_acc: 0.9720\n",
      "Epoch 19/30\n",
      "200/200 [==============================] - 21s 107ms/step - loss: 0.1869 - acc: 0.9667 - val_loss: 0.2066 - val_acc: 0.9720\n",
      "Epoch 20/30\n",
      "200/200 [==============================] - 21s 106ms/step - loss: 0.1830 - acc: 0.9692 - val_loss: 0.2221 - val_acc: 0.9720\n",
      "Epoch 21/30\n",
      "200/200 [==============================] - 21s 106ms/step - loss: 0.1642 - acc: 0.9702 - val_loss: 0.2154 - val_acc: 0.9730\n",
      "Epoch 22/30\n",
      "200/200 [==============================] - 21s 106ms/step - loss: 0.1368 - acc: 0.9717 - val_loss: 0.2154 - val_acc: 0.9700\n",
      "Epoch 23/30\n",
      "200/200 [==============================] - 21s 106ms/step - loss: 0.1433 - acc: 0.9710 - val_loss: 0.2255 - val_acc: 0.9710\n",
      "Epoch 24/30\n",
      "200/200 [==============================] - 21s 106ms/step - loss: 0.1331 - acc: 0.9727 - val_loss: 0.2249 - val_acc: 0.9680\n",
      "Epoch 25/30\n",
      "200/200 [==============================] - 21s 106ms/step - loss: 0.1666 - acc: 0.9710 - val_loss: 0.2221 - val_acc: 0.9700\n",
      "Epoch 26/30\n",
      "200/200 [==============================] - 21s 107ms/step - loss: 0.1578 - acc: 0.9697 - val_loss: 0.2480 - val_acc: 0.9660\n",
      "Epoch 27/30\n",
      "200/200 [==============================] - 21s 106ms/step - loss: 0.1316 - acc: 0.9717 - val_loss: 0.2371 - val_acc: 0.9670\n",
      "Epoch 28/30\n",
      "200/200 [==============================] - 21s 106ms/step - loss: 0.1421 - acc: 0.9742 - val_loss: 0.2217 - val_acc: 0.9660\n",
      "Epoch 29/30\n",
      "200/200 [==============================] - 21s 106ms/step - loss: 0.1114 - acc: 0.9795 - val_loss: 0.2034 - val_acc: 0.9700\n",
      "Epoch 30/30\n",
      "200/200 [==============================] - 21s 106ms/step - loss: 0.1285 - acc: 0.9767 - val_loss: 0.2106 - val_acc: 0.9640\n"
     ]
    }
   ],
   "source": [
    "history = model.fit_generator(train_generator, steps_per_epoch=200, epochs=30, validation_data=validation_generator, \n",
    "                              validation_steps=100)"
   ]
  },
  {
   "cell_type": "markdown",
   "metadata": {},
   "source": [
    "# Plots"
   ]
  },
  {
   "cell_type": "code",
   "execution_count": 19,
   "metadata": {
    "ExecuteTime": {
     "end_time": "2018-08-19T09:11:46.390118Z",
     "start_time": "2018-08-19T08:26:14.712Z"
    }
   },
   "outputs": [],
   "source": [
    "acc = history.history['acc']\n",
    "val_acc = history.history['val_acc']\n",
    "loss = history.history['loss']\n",
    "val_loss = history.history['val_loss']\n",
    "epochs = range(1, len(acc) + 1)"
   ]
  },
  {
   "cell_type": "code",
   "execution_count": 20,
   "metadata": {
    "ExecuteTime": {
     "end_time": "2018-08-19T09:11:46.396540Z",
     "start_time": "2018-08-19T08:26:15.205Z"
    }
   },
   "outputs": [
    {
     "data": {
      "image/png": "[encoded data removed]",
      "text/plain": [
       "<Figure size 432x288 with 1 Axes>"
      ]
     },
     "metadata": {},
     "output_type": "display_data"
    },
    {
     "data": {
      "image/png": "[encoded data removed]",
      "text/plain": [
       "<Figure size 432x288 with 1 Axes>"
      ]
     },
     "metadata": {},
     "output_type": "display_data"
    }
   ],
   "source": [
    "plt.plot(epochs, acc, 'bo', label='Training acc')\n",
    "plt.plot(epochs, val_acc, 'b', label='Validation acc')\n",
    "plt.title('Training and validation accuracy')\n",
    "plt.legend()\n",
    "\n",
    "plt.figure()\n",
    "\n",
    "plt.plot(epochs, loss, 'bo', label='Training loss')\n",
    "plt.plot(epochs, val_loss, 'b', label='Validation loss')\n",
    "plt.title('Training and validation loss')\n",
    "plt.legend()\n",
    "\n",
    "plt.show()"
   ]
  },
  {
   "cell_type": "markdown",
   "metadata": {},
   "source": [
    "# So far as previous mode. Now fine tuning"
   ]
  },
  {
   "cell_type": "code",
   "execution_count": 21,
   "metadata": {},
   "outputs": [],
   "source": [
    "conv_base.trainable = True"
   ]
  },
  {
   "cell_type": "markdown",
   "metadata": {},
   "source": [
    "### set as trainable from block5_conv1 onwards"
   ]
  },
  {
   "cell_type": "code",
   "execution_count": 22,
   "metadata": {},
   "outputs": [],
   "source": [
    "set_trainable = False\n",
    "for layer in conv_base.layers:\n",
    "    if layer.name == 'block5_conv1':\n",
    "        set_trainable = True\n",
    "    if set_trainable:\n",
    "        layer.trainable = True\n",
    "    else:\n",
    "        layer.trainable = False"
   ]
  },
  {
   "cell_type": "markdown",
   "metadata": {},
   "source": [
    "### Compile fine tuning"
   ]
  },
  {
   "cell_type": "code",
   "execution_count": 23,
   "metadata": {},
   "outputs": [],
   "source": [
    "model.compile(loss='binary_crossentropy', optimizer=optimizers.RMSprop(lr=1e-5), metrics=['acc'])"
   ]
  },
  {
   "cell_type": "code",
   "execution_count": 24,
   "metadata": {},
   "outputs": [
    {
     "name": "stdout",
     "output_type": "stream",
     "text": [
      "Epoch 1/30\n",
      "100/100 [==============================] - 11s 113ms/step - loss: 0.1628 - acc: 0.9695 - val_loss: 0.2400 - val_acc: 0.9620\n",
      "Epoch 2/30\n",
      "100/100 [==============================] - 10s 104ms/step - loss: 0.1256 - acc: 0.9735 - val_loss: 0.2655 - val_acc: 0.9630\n",
      "Epoch 3/30\n",
      "100/100 [==============================] - 10s 102ms/step - loss: 0.1242 - acc: 0.9760 - val_loss: 0.2220 - val_acc: 0.9650\n",
      "Epoch 4/30\n",
      "100/100 [==============================] - 10s 104ms/step - loss: 0.1257 - acc: 0.9765 - val_loss: 0.1749 - val_acc: 0.9700\n",
      "Epoch 5/30\n",
      "100/100 [==============================] - 10s 103ms/step - loss: 0.0913 - acc: 0.9795 - val_loss: 0.1846 - val_acc: 0.9710\n",
      "Epoch 6/30\n",
      "100/100 [==============================] - 10s 103ms/step - loss: 0.1019 - acc: 0.9775 - val_loss: 0.1999 - val_acc: 0.9710\n",
      "Epoch 7/30\n",
      "100/100 [==============================] - 10s 103ms/step - loss: 0.0703 - acc: 0.9820 - val_loss: 0.2028 - val_acc: 0.9700\n",
      "Epoch 8/30\n",
      "100/100 [==============================] - 10s 103ms/step - loss: 0.1037 - acc: 0.9790 - val_loss: 0.1798 - val_acc: 0.9720\n",
      "Epoch 9/30\n",
      "100/100 [==============================] - 10s 103ms/step - loss: 0.0651 - acc: 0.9840 - val_loss: 0.1696 - val_acc: 0.9730\n",
      "Epoch 10/30\n",
      "100/100 [==============================] - 10s 103ms/step - loss: 0.0929 - acc: 0.9780 - val_loss: 0.2233 - val_acc: 0.9730\n",
      "Epoch 11/30\n",
      "100/100 [==============================] - 10s 104ms/step - loss: 0.0719 - acc: 0.9830 - val_loss: 0.2219 - val_acc: 0.9730\n",
      "Epoch 12/30\n",
      "100/100 [==============================] - 10s 103ms/step - loss: 0.0869 - acc: 0.9870 - val_loss: 0.1950 - val_acc: 0.9670\n",
      "Epoch 13/30\n",
      "100/100 [==============================] - 10s 103ms/step - loss: 0.0890 - acc: 0.9815 - val_loss: 0.1800 - val_acc: 0.9740\n",
      "Epoch 14/30\n",
      "100/100 [==============================] - 10s 102ms/step - loss: 0.0871 - acc: 0.9805 - val_loss: 0.2168 - val_acc: 0.9740\n",
      "Epoch 15/30\n",
      "100/100 [==============================] - 10s 103ms/step - loss: 0.0804 - acc: 0.9815 - val_loss: 0.2038 - val_acc: 0.9720\n",
      "Epoch 16/30\n",
      "100/100 [==============================] - 10s 102ms/step - loss: 0.0609 - acc: 0.9865 - val_loss: 0.2144 - val_acc: 0.9710\n",
      "Epoch 17/30\n",
      "100/100 [==============================] - 10s 103ms/step - loss: 0.0711 - acc: 0.9870 - val_loss: 0.2017 - val_acc: 0.9730\n",
      "Epoch 18/30\n",
      "100/100 [==============================] - 10s 103ms/step - loss: 0.0479 - acc: 0.9880 - val_loss: 0.2146 - val_acc: 0.9740\n",
      "Epoch 19/30\n",
      "100/100 [==============================] - 10s 102ms/step - loss: 0.0681 - acc: 0.9835 - val_loss: 0.2021 - val_acc: 0.9740\n",
      "Epoch 20/30\n",
      "100/100 [==============================] - 10s 102ms/step - loss: 0.0740 - acc: 0.9825 - val_loss: 0.1969 - val_acc: 0.9720\n",
      "Epoch 21/30\n",
      "100/100 [==============================] - 10s 103ms/step - loss: 0.0760 - acc: 0.9835 - val_loss: 0.2379 - val_acc: 0.9700\n",
      "Epoch 22/30\n",
      "100/100 [==============================] - 10s 103ms/step - loss: 0.0464 - acc: 0.9895 - val_loss: 0.2133 - val_acc: 0.9730\n",
      "Epoch 23/30\n",
      "100/100 [==============================] - 10s 103ms/step - loss: 0.0695 - acc: 0.9835 - val_loss: 0.2121 - val_acc: 0.9700\n",
      "Epoch 24/30\n",
      "100/100 [==============================] - 10s 103ms/step - loss: 0.0511 - acc: 0.9910 - val_loss: 0.2116 - val_acc: 0.9710\n",
      "Epoch 25/30\n",
      "100/100 [==============================] - 10s 103ms/step - loss: 0.0661 - acc: 0.9865 - val_loss: 0.2138 - val_acc: 0.9750\n",
      "Epoch 26/30\n",
      "100/100 [==============================] - 10s 103ms/step - loss: 0.0535 - acc: 0.9875 - val_loss: 0.2501 - val_acc: 0.9720\n",
      "Epoch 27/30\n",
      "100/100 [==============================] - 10s 103ms/step - loss: 0.0537 - acc: 0.9905 - val_loss: 0.1993 - val_acc: 0.9760\n",
      "Epoch 28/30\n",
      "100/100 [==============================] - 10s 104ms/step - loss: 0.0460 - acc: 0.9885 - val_loss: 0.2071 - val_acc: 0.9730\n",
      "Epoch 29/30\n",
      "100/100 [==============================] - 10s 102ms/step - loss: 0.0369 - acc: 0.9910 - val_loss: 0.2074 - val_acc: 0.9720\n",
      "Epoch 30/30\n",
      "100/100 [==============================] - 10s 103ms/step - loss: 0.0449 - acc: 0.9900 - val_loss: 0.1948 - val_acc: 0.9740\n"
     ]
    }
   ],
   "source": [
    "history = model.fit_generator(train_generator, steps_per_epoch=100, epochs=30, validation_data=validation_generator,\n",
    "                                validation_steps=50)"
   ]
  },
  {
   "cell_type": "markdown",
   "metadata": {},
   "source": [
    "### Plots fine tuning"
   ]
  },
  {
   "cell_type": "code",
   "execution_count": 25,
   "metadata": {},
   "outputs": [],
   "source": [
    "acc = history.history['acc']\n",
    "val_acc = history.history['val_acc']\n",
    "loss = history.history['loss']\n",
    "val_loss = history.history['val_loss']\n",
    "epochs = range(1, len(acc) + 1)"
   ]
  },
  {
   "cell_type": "code",
   "execution_count": 26,
   "metadata": {},
   "outputs": [
    {
     "data": {
      "image/png": "[encoded data removed]",
      "text/plain": [
       "<Figure size 432x288 with 1 Axes>"
      ]
     },
     "metadata": {},
     "output_type": "display_data"
    },
    {
     "data": {
      "image/png": "[encoded data removed]",
      "text/plain": [
       "<Figure size 432x288 with 1 Axes>"
      ]
     },
     "metadata": {},
     "output_type": "display_data"
    }
   ],
   "source": [
    "plt.plot(epochs, acc, 'bo', label='Training acc')\n",
    "plt.plot(epochs, val_acc, 'b', label='Validation acc')\n",
    "plt.title('Training and validation accuracy')\n",
    "plt.legend()\n",
    "\n",
    "plt.figure()\n",
    "\n",
    "plt.plot(epochs, loss, 'bo', label='Training loss')\n",
    "plt.plot(epochs, val_loss, 'b', label='Validation loss')\n",
    "plt.title('Training and validation loss')\n",
    "plt.legend()\n",
    "\n",
    "plt.show()"
   ]
  },
  {
   "cell_type": "markdown",
   "metadata": {},
   "source": [
    "# Because it is a bit noisy we can smooth \n",
    "\n",
    "### (exponential moving average - EMA)"
   ]
  },
  {
   "cell_type": "code",
   "execution_count": 27,
   "metadata": {},
   "outputs": [],
   "source": [
    "def smooth_curve(points, factor=0.8):\n",
    "    smoothed_points = []\n",
    "    for point in points:\n",
    "        if smoothed_points:\n",
    "            previous = smoothed_points[-1]\n",
    "            smoothed_points.append(previous * factor + point * (1 - factor))\n",
    "        else:\n",
    "            smoothed_points.append(point)\n",
    "    return smoothed_points"
   ]
  },
  {
   "cell_type": "code",
   "execution_count": 28,
   "metadata": {},
   "outputs": [
    {
     "data": {
      "image/png": "[encoded data removed]",
      "text/plain": [
       "<Figure size 432x288 with 1 Axes>"
      ]
     },
     "metadata": {},
     "output_type": "display_data"
    },
    {
     "data": {
      "image/png": "[encoded data removed]",
      "text/plain": [
       "<Figure size 432x288 with 1 Axes>"
      ]
     },
     "metadata": {},
     "output_type": "display_data"
    }
   ],
   "source": [
    "plt.plot(epochs, smooth_curve(acc), 'bo', label='Smoothed training acc')\n",
    "plt.plot(epochs, smooth_curve(val_acc), 'b', label='Smoothed validation acc')\n",
    "plt.title('Training and validation accuracy')\n",
    "plt.legend()\n",
    "\n",
    "plt.figure()\n",
    "\n",
    "plt.plot(epochs, smooth_curve(loss), 'bo', label='Smoothed training loss')\n",
    "plt.plot(epochs, smooth_curve(val_loss), 'b', label='Smoothed validation loss')\n",
    "plt.title('Training and validation loss')\n",
    "plt.legend()\n",
    "\n",
    "plt.show()"
   ]
  },
  {
   "cell_type": "markdown",
   "metadata": {},
   "source": [
    "### Evaluate on the test set"
   ]
  },
  {
   "cell_type": "code",
   "execution_count": 29,
   "metadata": {},
   "outputs": [
    {
     "name": "stdout",
     "output_type": "stream",
     "text": [
      "Found 1000 images belonging to 2 classes.\n"
     ]
    }
   ],
   "source": [
    "test_generator = test_datagen.flow_from_directory(test_dir, target_size=(150, 150), batch_size=20, class_mode='binary')"
   ]
  },
  {
   "cell_type": "code",
   "execution_count": 30,
   "metadata": {},
   "outputs": [],
   "source": [
    "test_loss, test_acc = model.evaluate_generator(test_generator, steps=50)"
   ]
  },
  {
   "cell_type": "code",
   "execution_count": 31,
   "metadata": {},
   "outputs": [
    {
     "name": "stdout",
     "output_type": "stream",
     "text": [
      "test acc: 0.9689999961853027\n"
     ]
    }
   ],
   "source": [
    "print('test acc:', test_acc)"
   ]
  },
  {
   "cell_type": "code",
   "execution_count": null,
   "metadata": {},
   "outputs": [],
   "source": []
  }
 ],
 "metadata": {
  "kernelspec": {
   "display_name": "Python [conda env:deeplearning_keras]",
   "language": "python",
   "name": "conda-env-deeplearning_keras-py"
  },
  "language_info": {
   "codemirror_mode": {
    "name": "ipython",
    "version": 3
   },
   "file_extension": ".py",
   "mimetype": "text/x-python",
   "name": "python",
   "nbconvert_exporter": "python",
   "pygments_lexer": "ipython3",
   "version": "3.6.6"
  }
 },
 "nbformat": 4,
 "nbformat_minor": 2
}
