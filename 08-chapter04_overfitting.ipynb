{
 "cells": [
  {
   "cell_type": "markdown",
   "metadata": {},
   "source": [
    "# Overfitting / underfitting"
   ]
  },
  {
   "cell_type": "code",
   "execution_count": 1,
   "metadata": {},
   "outputs": [
    {
     "name": "stderr",
     "output_type": "stream",
     "text": [
      "Using TensorFlow backend.\n"
     ]
    }
   ],
   "source": [
    "from keras.datasets import mnist\n",
    "from keras.utils import to_categorical\n",
    "\n",
    "from keras import models\n",
    "from keras import layers\n",
    "from keras import regularizers\n",
    "\n",
    "import numpy as np\n",
    "import matplotlib.pyplot as plt\n",
    "\n",
    "\n",
    "from numpy.random import seed\n",
    "from tensorflow import set_random_seed"
   ]
  },
  {
   "cell_type": "code",
   "execution_count": 2,
   "metadata": {},
   "outputs": [],
   "source": [
    "seed(1)\n",
    "set_random_seed(2)"
   ]
  },
  {
   "cell_type": "markdown",
   "metadata": {},
   "source": [
    "### load data"
   ]
  },
  {
   "cell_type": "code",
   "execution_count": 3,
   "metadata": {},
   "outputs": [],
   "source": [
    "(train_images, train_labels), (test_images, test_labels) = mnist.load_data()"
   ]
  },
  {
   "cell_type": "markdown",
   "metadata": {},
   "source": [
    "### transform data"
   ]
  },
  {
   "cell_type": "code",
   "execution_count": 4,
   "metadata": {},
   "outputs": [],
   "source": [
    "train_images = train_images.reshape((60000, 28 * 28))\n",
    "train_images = train_images.astype('float32') / 255\n",
    "\n",
    "test_images = test_images.reshape((10000, 28 * 28))\n",
    "test_images = test_images.astype('float32') / 255"
   ]
  },
  {
   "cell_type": "code",
   "execution_count": 5,
   "metadata": {},
   "outputs": [],
   "source": [
    "train_labels = to_categorical(train_labels)\n",
    "test_labels = to_categorical(test_labels)"
   ]
  },
  {
   "cell_type": "markdown",
   "metadata": {},
   "source": [
    "### Define the NN"
   ]
  },
  {
   "cell_type": "code",
   "execution_count": 6,
   "metadata": {},
   "outputs": [],
   "source": [
    "# original model\n",
    "# epoch: 12\n",
    "# overf acc : 0.9949-0.9802 = 0.0147\n",
    "# overf loss: 0.0199-0.0679 = -0.0480\n",
    "# [0.06593037175243953, 0.9796]\n",
    "\n",
    "def get_model1():    \n",
    "    network = models.Sequential()\n",
    "    network.add(layers.Dense(512, activation='relu', input_shape=(28 * 28,)))\n",
    "    network.add(layers.Dense(10, activation='softmax'))\n",
    "    \n",
    "    network.compile(optimizer='rmsprop', loss='categorical_crossentropy', metrics=['accuracy'])\n",
    "    \n",
    "    return network"
   ]
  },
  {
   "cell_type": "code",
   "execution_count": 7,
   "metadata": {},
   "outputs": [],
   "source": [
    "# lower capacity model\n",
    "# epoch: 14\n",
    "# overf acc:  0.9858-0.9740 = 0.01180\n",
    "# overf loss: 0.0512-0.0923 = -0.0411\n",
    "# [0.08006874090773053, 0.9756]\n",
    "\n",
    "def get_model2():    \n",
    "    network = models.Sequential()\n",
    "    network.add(layers.Dense(128, activation='relu', input_shape=(28 * 28,)))\n",
    "    network.add(layers.Dense(10, activation='softmax'))\n",
    "    \n",
    "    network.compile(optimizer='rmsprop', loss='categorical_crossentropy', metrics=['accuracy'])\n",
    "    \n",
    "    return network"
   ]
  },
  {
   "cell_type": "code",
   "execution_count": 8,
   "metadata": {},
   "outputs": [],
   "source": [
    "# lowerest capacity model\n",
    "# epoch: 24\n",
    "# overf acc:  0.9926-0.9748 = 0.01780\n",
    "# overf loss: 0.0281-0.0867 = -0.0586\n",
    "# [0.08735791617380455, 0.9742]\n",
    "\n",
    "def get_model3():    \n",
    "    network = models.Sequential()\n",
    "    network.add(layers.Dense(96, activation='relu', input_shape=(28 * 28,)))\n",
    "    network.add(layers.Dense(10, activation='softmax'))\n",
    "    \n",
    "    network.compile(optimizer='rmsprop', loss='categorical_crossentropy', metrics=['accuracy'])\n",
    "    \n",
    "    return network"
   ]
  },
  {
   "cell_type": "code",
   "execution_count": null,
   "metadata": {},
   "outputs": [],
   "source": []
  },
  {
   "cell_type": "markdown",
   "metadata": {},
   "source": [
    "### Comment 1:\n",
    "Reducing capacity has the effect of increasing the value of (min) loss and decreasing the (max) of accuracy\n",
    "\n",
    "The extrem is reaches at higher vaue of epoch"
   ]
  },
  {
   "cell_type": "code",
   "execution_count": 9,
   "metadata": {},
   "outputs": [],
   "source": [
    "# high capacity model\n",
    "# epoch: 20\n",
    "# overf acc: 0.01530 \n",
    "# overf loss: -0.0801\n",
    "# [0.11346163259886288, 0.9827]\n",
    "\n",
    "\n",
    "def get_model4():    \n",
    "    network = models.Sequential()\n",
    "    network.add(layers.Dense(2048, activation='relu', input_shape=(28 * 28,)))\n",
    "    network.add(layers.Dense(10, activation='softmax'))\n",
    "    \n",
    "    network.compile(optimizer='rmsprop', loss='categorical_crossentropy', metrics=['accuracy'])\n",
    "    \n",
    "    return network"
   ]
  },
  {
   "cell_type": "markdown",
   "metadata": {},
   "source": [
    "### Comment 2:\n",
    "\n",
    "Increasing capacity has the effet to increase the accuracy but also the loss;\n",
    "\n",
    "moreover the overfitting due to the loss is much higher"
   ]
  },
  {
   "cell_type": "code",
   "execution_count": null,
   "metadata": {},
   "outputs": [],
   "source": [
    " "
   ]
  },
  {
   "cell_type": "code",
   "execution_count": 10,
   "metadata": {},
   "outputs": [],
   "source": [
    "# model: weight regularization\n",
    "# epoch: 21\n",
    "# overf acc: 0.9813 -  0.9792 =  0.002100\n",
    "# overf loss: 0.1218 - 0.1344 = -0.01260\n",
    "# [0.16923960864543916, 0.9626]\n",
    "\n",
    "\n",
    "def get_model5():    \n",
    "    network = models.Sequential()\n",
    "    network.add(layers.Dense(512, kernel_regularizer=regularizers.l2(0.001), activation='relu', input_shape=(28 * 28,)))\n",
    "    network.add(layers.Dense(10, activation='softmax'))\n",
    "    \n",
    "    network.compile(optimizer='rmsprop', loss='categorical_crossentropy', metrics=['accuracy'])\n",
    "    \n",
    "    return network"
   ]
  },
  {
   "cell_type": "markdown",
   "metadata": {},
   "source": [
    "### Comment 3\n",
    "\n",
    "with l2 the overfitting is decreased a lot (7x for acc, 4x for loss) \n",
    "\n",
    "but the epoch is doubled and the final accuracy is decreased a bit\n",
    "\n",
    "loss and acc calculated on validation much unstable, not smooth"
   ]
  },
  {
   "cell_type": "code",
   "execution_count": null,
   "metadata": {},
   "outputs": [],
   "source": [
    " "
   ]
  },
  {
   "cell_type": "code",
   "execution_count": 11,
   "metadata": {},
   "outputs": [],
   "source": [
    "# model with drop out\n",
    "# epoch: 10\n",
    "# overf acc : 0.0139\n",
    "# overf loss: -0.048\n",
    "# [0.07169178755446337, 0.9784]\n",
    "\n",
    "\n",
    "def get_model6():    \n",
    "    network = models.Sequential()\n",
    "    network.add(layers.Dense(512, activation='relu', input_shape=(28 * 28,)))\n",
    "    model.add(layers.Dropout(0.5))\n",
    "    network.add(layers.Dense(10, activation='softmax'))\n",
    "    \n",
    "    network.compile(optimizer='rmsprop', loss='categorical_crossentropy', metrics=['accuracy'])\n",
    "    \n",
    "    return network"
   ]
  },
  {
   "cell_type": "markdown",
   "metadata": {},
   "source": [
    "### Comment 4:\n",
    "\n",
    "No clear advantage, maybe deacreased averfitting in acc and decreased epoch"
   ]
  },
  {
   "cell_type": "code",
   "execution_count": null,
   "metadata": {},
   "outputs": [],
   "source": []
  },
  {
   "cell_type": "code",
   "execution_count": 12,
   "metadata": {},
   "outputs": [],
   "source": [
    "get_model = get_model1"
   ]
  },
  {
   "cell_type": "markdown",
   "metadata": {},
   "source": [
    "### hold-out validation"
   ]
  },
  {
   "cell_type": "code",
   "execution_count": 13,
   "metadata": {},
   "outputs": [],
   "source": [
    "num_validation_samples = 10000"
   ]
  },
  {
   "cell_type": "code",
   "execution_count": 14,
   "metadata": {},
   "outputs": [],
   "source": [
    "validation_data = train_images[:num_validation_samples]\n",
    "partial_train_images = train_images[num_validation_samples:]"
   ]
  },
  {
   "cell_type": "code",
   "execution_count": 15,
   "metadata": {},
   "outputs": [],
   "source": [
    "validation_labels = train_labels[:num_validation_samples]\n",
    "partial_train_labels =  train_labels[num_validation_samples:]"
   ]
  },
  {
   "cell_type": "markdown",
   "metadata": {},
   "source": [
    "# Fit model"
   ]
  },
  {
   "cell_type": "code",
   "execution_count": 16,
   "metadata": {},
   "outputs": [],
   "source": [
    "seed(1)\n",
    "set_random_seed(2)\n",
    "\n",
    "model = get_model()"
   ]
  },
  {
   "cell_type": "code",
   "execution_count": 17,
   "metadata": {},
   "outputs": [
    {
     "name": "stdout",
     "output_type": "stream",
     "text": [
      "Train on 50000 samples, validate on 10000 samples\n",
      "Epoch 1/40\n",
      "50000/50000 [==============================] - 1s 27us/step - loss: 0.4392 - acc: 0.8748 - val_loss: 0.2581 - val_acc: 0.9237\n",
      "Epoch 2/40\n",
      "50000/50000 [==============================] - 1s 20us/step - loss: 0.1976 - acc: 0.9441 - val_loss: 0.1698 - val_acc: 0.9508\n",
      "Epoch 3/40\n",
      "50000/50000 [==============================] - 1s 20us/step - loss: 0.1380 - acc: 0.9607 - val_loss: 0.1394 - val_acc: 0.9592\n",
      "Epoch 4/40\n",
      "50000/50000 [==============================] - 1s 20us/step - loss: 0.1018 - acc: 0.9698 - val_loss: 0.1086 - val_acc: 0.9669\n",
      "Epoch 5/40\n",
      "50000/50000 [==============================] - 1s 21us/step - loss: 0.0794 - acc: 0.9771 - val_loss: 0.1034 - val_acc: 0.9687\n",
      "Epoch 6/40\n",
      "50000/50000 [==============================] - 1s 20us/step - loss: 0.0638 - acc: 0.9817 - val_loss: 0.0934 - val_acc: 0.9707\n",
      "Epoch 7/40\n",
      "50000/50000 [==============================] - 1s 19us/step - loss: 0.0511 - acc: 0.9855 - val_loss: 0.0975 - val_acc: 0.9713\n",
      "Epoch 8/40\n",
      "50000/50000 [==============================] - 1s 20us/step - loss: 0.0429 - acc: 0.9881 - val_loss: 0.0767 - val_acc: 0.9773\n",
      "Epoch 9/40\n",
      "50000/50000 [==============================] - 1s 18us/step - loss: 0.0347 - acc: 0.9907 - val_loss: 0.0781 - val_acc: 0.9758\n",
      "Epoch 10/40\n",
      "50000/50000 [==============================] - 1s 19us/step - loss: 0.0298 - acc: 0.9920 - val_loss: 0.0784 - val_acc: 0.9764\n",
      "Epoch 11/40\n",
      "50000/50000 [==============================] - 1s 20us/step - loss: 0.0234 - acc: 0.9939 - val_loss: 0.0752 - val_acc: 0.9771\n",
      "Epoch 12/40\n",
      "50000/50000 [==============================] - 1s 20us/step - loss: 0.0200 - acc: 0.9947 - val_loss: 0.0684 - val_acc: 0.9792\n",
      "Epoch 13/40\n",
      "50000/50000 [==============================] - 1s 21us/step - loss: 0.0162 - acc: 0.9960 - val_loss: 0.0698 - val_acc: 0.9790\n",
      "Epoch 14/40\n",
      "50000/50000 [==============================] - 1s 19us/step - loss: 0.0131 - acc: 0.9970 - val_loss: 0.0717 - val_acc: 0.9800\n",
      "Epoch 15/40\n",
      "50000/50000 [==============================] - 1s 20us/step - loss: 0.0109 - acc: 0.9979 - val_loss: 0.0725 - val_acc: 0.9793\n",
      "Epoch 16/40\n",
      "50000/50000 [==============================] - 1s 20us/step - loss: 0.0087 - acc: 0.9984 - val_loss: 0.0747 - val_acc: 0.9799\n",
      "Epoch 17/40\n",
      "50000/50000 [==============================] - 1s 18us/step - loss: 0.0075 - acc: 0.9985 - val_loss: 0.0825 - val_acc: 0.9769\n",
      "Epoch 18/40\n",
      "50000/50000 [==============================] - 1s 20us/step - loss: 0.0061 - acc: 0.9990 - val_loss: 0.0786 - val_acc: 0.9789\n",
      "Epoch 19/40\n",
      "50000/50000 [==============================] - 1s 19us/step - loss: 0.0051 - acc: 0.9990 - val_loss: 0.0822 - val_acc: 0.9791\n",
      "Epoch 20/40\n",
      "50000/50000 [==============================] - 1s 20us/step - loss: 0.0043 - acc: 0.9992 - val_loss: 0.0735 - val_acc: 0.9804\n",
      "Epoch 21/40\n",
      "50000/50000 [==============================] - 1s 20us/step - loss: 0.0035 - acc: 0.9994 - val_loss: 0.0818 - val_acc: 0.9793\n",
      "Epoch 22/40\n",
      "50000/50000 [==============================] - 1s 20us/step - loss: 0.0028 - acc: 0.9995 - val_loss: 0.0846 - val_acc: 0.9789\n",
      "Epoch 23/40\n",
      "50000/50000 [==============================] - 1s 19us/step - loss: 0.0029 - acc: 0.9995 - val_loss: 0.0804 - val_acc: 0.9798\n",
      "Epoch 24/40\n",
      "50000/50000 [==============================] - 1s 21us/step - loss: 0.0020 - acc: 0.9996 - val_loss: 0.0817 - val_acc: 0.9802\n",
      "Epoch 25/40\n",
      "50000/50000 [==============================] - 1s 20us/step - loss: 0.0019 - acc: 0.9996 - val_loss: 0.0869 - val_acc: 0.9789\n",
      "Epoch 26/40\n",
      "50000/50000 [==============================] - 1s 20us/step - loss: 0.0016 - acc: 0.9997 - val_loss: 0.0825 - val_acc: 0.9801\n",
      "Epoch 27/40\n",
      "50000/50000 [==============================] - 1s 18us/step - loss: 0.0010 - acc: 0.9999 - val_loss: 0.0901 - val_acc: 0.9804\n",
      "Epoch 28/40\n",
      "50000/50000 [==============================] - 1s 20us/step - loss: 0.0010 - acc: 0.9999 - val_loss: 0.0892 - val_acc: 0.9801\n",
      "Epoch 29/40\n",
      "50000/50000 [==============================] - 1s 20us/step - loss: 9.0297e-04 - acc: 0.9998 - val_loss: 0.0851 - val_acc: 0.9811\n",
      "Epoch 30/40\n",
      "50000/50000 [==============================] - 1s 20us/step - loss: 5.8629e-04 - acc: 1.0000 - val_loss: 0.0900 - val_acc: 0.9809\n",
      "Epoch 31/40\n",
      "50000/50000 [==============================] - 1s 20us/step - loss: 7.7270e-04 - acc: 0.9998 - val_loss: 0.0892 - val_acc: 0.9806\n",
      "Epoch 32/40\n",
      "50000/50000 [==============================] - 1s 17us/step - loss: 5.0361e-04 - acc: 0.9999 - val_loss: 0.0936 - val_acc: 0.9809\n",
      "Epoch 33/40\n",
      "50000/50000 [==============================] - 1s 20us/step - loss: 3.6212e-04 - acc: 0.9999 - val_loss: 0.1194 - val_acc: 0.9765\n",
      "Epoch 34/40\n",
      "50000/50000 [==============================] - 1s 20us/step - loss: 3.6095e-04 - acc: 0.9999 - val_loss: 0.1001 - val_acc: 0.9805\n",
      "Epoch 35/40\n",
      "50000/50000 [==============================] - 1s 20us/step - loss: 4.5593e-04 - acc: 0.9999 - val_loss: 0.0980 - val_acc: 0.9804\n",
      "Epoch 36/40\n",
      "50000/50000 [==============================] - 1s 20us/step - loss: 6.3974e-04 - acc: 0.9998 - val_loss: 0.0992 - val_acc: 0.9817\n",
      "Epoch 37/40\n",
      "50000/50000 [==============================] - 1s 21us/step - loss: 2.9399e-04 - acc: 0.9999 - val_loss: 0.1037 - val_acc: 0.9802\n",
      "Epoch 38/40\n",
      "50000/50000 [==============================] - 1s 18us/step - loss: 1.7977e-04 - acc: 1.0000 - val_loss: 0.1058 - val_acc: 0.9802\n",
      "Epoch 39/40\n",
      "50000/50000 [==============================] - 1s 20us/step - loss: 2.0172e-04 - acc: 0.9999 - val_loss: 0.1076 - val_acc: 0.9802\n",
      "Epoch 40/40\n",
      "50000/50000 [==============================] - 1s 20us/step - loss: 1.5620e-04 - acc: 1.0000 - val_loss: 0.1078 - val_acc: 0.9804\n",
      "CPU times: user 1min 58s, sys: 56.5 s, total: 2min 55s\n",
      "Wall time: 39.9 s\n"
     ]
    }
   ],
   "source": [
    "%%time\n",
    "history = model.fit(partial_train_images, partial_train_labels, epochs=40, batch_size=512, \n",
    "          validation_data=(validation_data, validation_labels));"
   ]
  },
  {
   "cell_type": "code",
   "execution_count": null,
   "metadata": {},
   "outputs": [],
   "source": []
  },
  {
   "cell_type": "code",
   "execution_count": 18,
   "metadata": {},
   "outputs": [
    {
     "data": {
      "image/png": "[encoded data removed]",
      "text/plain": [
       "<Figure size 432x288 with 1 Axes>"
      ]
     },
     "metadata": {},
     "output_type": "display_data"
    }
   ],
   "source": [
    "xx = history.epoch\n",
    "yy2 = history.history['val_acc']\n",
    "yy1 = history.history['acc']\n",
    "\n",
    "plt.plot(xx,yy1, label='Training acc')\n",
    "plt.plot(xx,yy2, label='Validation acc')\n",
    "\n",
    "plt.xlabel('Epochs')\n",
    "plt.ylabel('Accuracy')\n",
    "\n",
    "plt.ylim(0.9,1.0)\n",
    "\n",
    "plt.legend()\n",
    "\n",
    "plt.show()"
   ]
  },
  {
   "cell_type": "code",
   "execution_count": 19,
   "metadata": {},
   "outputs": [
    {
     "data": {
      "image/png": "[encoded data removed]",
      "text/plain": [
       "<Figure size 432x288 with 1 Axes>"
      ]
     },
     "metadata": {},
     "output_type": "display_data"
    }
   ],
   "source": [
    "xx = history.epoch\n",
    "yy2 = history.history['val_loss']\n",
    "yy1 = history.history['loss']\n",
    "\n",
    "plt.plot(xx,yy1, label='Training loss')\n",
    "plt.plot(xx,yy2, label='Validation loss')\n",
    "\n",
    "plt.xlabel('Epochs')\n",
    "plt.ylabel('Loss')\n",
    "\n",
    "plt.ylim(0.0,0.2)\n",
    "\n",
    "plt.legend()\n",
    "\n",
    "plt.show()"
   ]
  },
  {
   "cell_type": "markdown",
   "metadata": {},
   "source": [
    "# After having tuned hyperparameters fit again the model with all data"
   ]
  },
  {
   "cell_type": "code",
   "execution_count": 20,
   "metadata": {},
   "outputs": [],
   "source": [
    "seed(1)\n",
    "set_random_seed(2)\n",
    "\n",
    "model = get_model()"
   ]
  },
  {
   "cell_type": "code",
   "execution_count": 21,
   "metadata": {},
   "outputs": [
    {
     "name": "stdout",
     "output_type": "stream",
     "text": [
      "Epoch 1/10\n",
      "60000/60000 [==============================] - 1s 22us/step - loss: 0.3993 - acc: 0.8862\n",
      "Epoch 2/10\n",
      "60000/60000 [==============================] - 1s 18us/step - loss: 0.1779 - acc: 0.9486\n",
      "Epoch 3/10\n",
      "60000/60000 [==============================] - 1s 16us/step - loss: 0.1200 - acc: 0.9653\n",
      "Epoch 4/10\n",
      "60000/60000 [==============================] - 1s 17us/step - loss: 0.0892 - acc: 0.9740\n",
      "Epoch 5/10\n",
      "60000/60000 [==============================] - 1s 18us/step - loss: 0.0698 - acc: 0.9797\n",
      "Epoch 6/10\n",
      "60000/60000 [==============================] - 1s 18us/step - loss: 0.0550 - acc: 0.9842\n",
      "Epoch 7/10\n",
      "60000/60000 [==============================] - 1s 16us/step - loss: 0.0451 - acc: 0.9869\n",
      "Epoch 8/10\n",
      "60000/60000 [==============================] - 1s 17us/step - loss: 0.0365 - acc: 0.9899\n",
      "Epoch 9/10\n",
      "60000/60000 [==============================] - 1s 18us/step - loss: 0.0296 - acc: 0.9919\n",
      "Epoch 10/10\n",
      "60000/60000 [==============================] - 1s 18us/step - loss: 0.0250 - acc: 0.9935\n"
     ]
    }
   ],
   "source": [
    "model.fit(train_images, train_labels, epochs=10, batch_size=512);"
   ]
  },
  {
   "cell_type": "markdown",
   "metadata": {},
   "source": [
    "### at the end, score on the test data"
   ]
  },
  {
   "cell_type": "code",
   "execution_count": 22,
   "metadata": {},
   "outputs": [
    {
     "name": "stdout",
     "output_type": "stream",
     "text": [
      "10000/10000 [==============================] - 1s 61us/step\n"
     ]
    }
   ],
   "source": [
    "test_score = model.evaluate(test_images, test_labels)"
   ]
  },
  {
   "cell_type": "code",
   "execution_count": 23,
   "metadata": {},
   "outputs": [
    {
     "data": {
      "text/plain": [
       "[0.06633696963754483, 0.9792]"
      ]
     },
     "execution_count": 23,
     "metadata": {},
     "output_type": "execute_result"
    }
   ],
   "source": [
    "test_score"
   ]
  },
  {
   "cell_type": "code",
   "execution_count": null,
   "metadata": {},
   "outputs": [],
   "source": []
  },
  {
   "cell_type": "code",
   "execution_count": null,
   "metadata": {},
   "outputs": [],
   "source": []
  }
 ],
 "metadata": {
  "kernelspec": {
   "display_name": "Python [conda env:deeplearning_keras]",
   "language": "python",
   "name": "conda-env-deeplearning_keras-py"
  },
  "language_info": {
   "codemirror_mode": {
    "name": "ipython",
    "version": 3
   },
   "file_extension": ".py",
   "mimetype": "text/x-python",
   "name": "python",
   "nbconvert_exporter": "python",
   "pygments_lexer": "ipython3",
   "version": "3.6.6"
  }
 },
 "nbformat": 4,
 "nbformat_minor": 2
}
