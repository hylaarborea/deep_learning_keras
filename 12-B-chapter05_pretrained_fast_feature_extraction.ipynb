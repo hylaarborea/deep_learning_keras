{
 "cells": [
  {
   "cell_type": "markdown",
   "metadata": {},
   "source": [
    "# Cats and dogs with pretrained convnet (I - no data augmentation)"
   ]
  },
  {
   "cell_type": "markdown",
   "metadata": {},
   "source": [
    "The code has been changed with respect to the book according to:\n",
    "- https://keras.io/applications/#vgg16\n",
    "- https://forums.manning.com/posts/list/42880.page\n",
    "\n",
    "In the book the rescaling of the images for vgg16 is wrong. There the accuracy was ~90%, with the changing it is ~ 95%"
   ]
  },
  {
   "cell_type": "code",
   "execution_count": 1,
   "metadata": {
    "ExecuteTime": {
     "end_time": "2018-08-08T17:39:43.453057Z",
     "start_time": "2018-08-08T17:39:39.753431Z"
    }
   },
   "outputs": [
    {
     "name": "stderr",
     "output_type": "stream",
     "text": [
      "Using TensorFlow backend.\n"
     ]
    }
   ],
   "source": [
    "import os\n",
    "import numpy as np\n",
    "from keras.preprocessing.image import ImageDataGenerator\n",
    "\n",
    "from keras.applications import VGG16\n",
    "\n",
    "from keras import models\n",
    "from keras import layers\n",
    "from keras import optimizers\n",
    "\n",
    "import matplotlib.pyplot as plt\n",
    "\n",
    "#from keras.applications.imagenet_utils import preprocess_input\n",
    "from keras.applications.vgg16 import preprocess_input"
   ]
  },
  {
   "cell_type": "markdown",
   "metadata": {},
   "source": [
    "### Define folders"
   ]
  },
  {
   "cell_type": "code",
   "execution_count": 2,
   "metadata": {
    "ExecuteTime": {
     "end_time": "2018-08-05T17:28:16.127210Z",
     "start_time": "2018-08-05T17:28:16.103184Z"
    }
   },
   "outputs": [],
   "source": [
    "base_dir = './cats_and_dogs_small/'"
   ]
  },
  {
   "cell_type": "code",
   "execution_count": 3,
   "metadata": {
    "ExecuteTime": {
     "end_time": "2018-08-08T08:32:59.702784Z",
     "start_time": "2018-08-08T08:32:59.656741Z"
    }
   },
   "outputs": [],
   "source": [
    "train_dir = os.path.join(base_dir, 'train')\n",
    "validation_dir = os.path.join(base_dir, 'validation')\n",
    "test_dir = os.path.join(base_dir, 'test')"
   ]
  },
  {
   "cell_type": "markdown",
   "metadata": {},
   "source": [
    "### Load pretrained convnet"
   ]
  },
  {
   "cell_type": "code",
   "execution_count": 4,
   "metadata": {
    "ExecuteTime": {
     "end_time": "2018-08-05T17:28:29.649649Z",
     "start_time": "2018-08-05T17:28:16.138394Z"
    }
   },
   "outputs": [],
   "source": [
    "conv_base = VGG16(weights='imagenet', include_top=False, input_shape=(150, 150, 3))"
   ]
  },
  {
   "cell_type": "code",
   "execution_count": 5,
   "metadata": {
    "ExecuteTime": {
     "end_time": "2018-08-05T17:28:31.418551Z",
     "start_time": "2018-08-05T17:28:29.667805Z"
    }
   },
   "outputs": [
    {
     "name": "stdout",
     "output_type": "stream",
     "text": [
      "_________________________________________________________________\n",
      "Layer (type)                 Output Shape              Param #   \n",
      "=================================================================\n",
      "input_1 (InputLayer)         (None, 150, 150, 3)       0         \n",
      "_________________________________________________________________\n",
      "block1_conv1 (Conv2D)        (None, 150, 150, 64)      1792      \n",
      "_________________________________________________________________\n",
      "block1_conv2 (Conv2D)        (None, 150, 150, 64)      36928     \n",
      "_________________________________________________________________\n",
      "block1_pool (MaxPooling2D)   (None, 75, 75, 64)        0         \n",
      "_________________________________________________________________\n",
      "block2_conv1 (Conv2D)        (None, 75, 75, 128)       73856     \n",
      "_________________________________________________________________\n",
      "block2_conv2 (Conv2D)        (None, 75, 75, 128)       147584    \n",
      "_________________________________________________________________\n",
      "block2_pool (MaxPooling2D)   (None, 37, 37, 128)       0         \n",
      "_________________________________________________________________\n",
      "block3_conv1 (Conv2D)        (None, 37, 37, 256)       295168    \n",
      "_________________________________________________________________\n",
      "block3_conv2 (Conv2D)        (None, 37, 37, 256)       590080    \n",
      "_________________________________________________________________\n",
      "block3_conv3 (Conv2D)        (None, 37, 37, 256)       590080    \n",
      "_________________________________________________________________\n",
      "block3_pool (MaxPooling2D)   (None, 18, 18, 256)       0         \n",
      "_________________________________________________________________\n",
      "block4_conv1 (Conv2D)        (None, 18, 18, 512)       1180160   \n",
      "_________________________________________________________________\n",
      "block4_conv2 (Conv2D)        (None, 18, 18, 512)       2359808   \n",
      "_________________________________________________________________\n",
      "block4_conv3 (Conv2D)        (None, 18, 18, 512)       2359808   \n",
      "_________________________________________________________________\n",
      "block4_pool (MaxPooling2D)   (None, 9, 9, 512)         0         \n",
      "_________________________________________________________________\n",
      "block5_conv1 (Conv2D)        (None, 9, 9, 512)         2359808   \n",
      "_________________________________________________________________\n",
      "block5_conv2 (Conv2D)        (None, 9, 9, 512)         2359808   \n",
      "_________________________________________________________________\n",
      "block5_conv3 (Conv2D)        (None, 9, 9, 512)         2359808   \n",
      "_________________________________________________________________\n",
      "block5_pool (MaxPooling2D)   (None, 4, 4, 512)         0         \n",
      "=================================================================\n",
      "Total params: 14,714,688\n",
      "Trainable params: 14,714,688\n",
      "Non-trainable params: 0\n",
      "_________________________________________________________________\n"
     ]
    }
   ],
   "source": [
    "conv_base.summary()"
   ]
  },
  {
   "cell_type": "markdown",
   "metadata": {
    "ExecuteTime": {
     "end_time": "2018-08-05T17:28:31.431159Z",
     "start_time": "2018-08-05T17:28:31.424498Z"
    },
    "collapsed": true
   },
   "source": [
    "### Extract features"
   ]
  },
  {
   "cell_type": "code",
   "execution_count": 6,
   "metadata": {
    "ExecuteTime": {
     "end_time": "2018-08-05T17:28:31.537489Z",
     "start_time": "2018-08-05T17:28:31.436922Z"
    }
   },
   "outputs": [],
   "source": [
    "#Note: the correct way to rescale image for vgg16 is using \"preprocess_input\" and not\n",
    "#datagen = ImageDataGenerator(rescale=1./255)\n",
    "\n",
    "# vgg16 was trained on images of size 224 × 244, preprocessed according to a few rules that are packaged in\n",
    "# the utility function keras.applications.vgg16.preprocess_input .\n",
    "\n",
    "datagen = ImageDataGenerator(preprocessing_function=preprocess_input)\n",
    "batch_size = 10"
   ]
  },
  {
   "cell_type": "code",
   "execution_count": 7,
   "metadata": {
    "ExecuteTime": {
     "end_time": "2018-08-05T17:28:31.637814Z",
     "start_time": "2018-08-05T17:28:31.542735Z"
    }
   },
   "outputs": [],
   "source": [
    "def extract_features(directory, sample_count):\n",
    "    features = np.zeros(shape=(sample_count, 4, 4, 512))\n",
    "    labels = np.zeros(shape=(sample_count))\n",
    "    generator = datagen.flow_from_directory(directory,target_size=(150, 150), batch_size=batch_size, class_mode='binary')\n",
    "    i = 0\n",
    "    for inputs_batch, labels_batch in generator:\n",
    "        features_batch = conv_base.predict(inputs_batch)\n",
    "        features[i * batch_size : (i + 1) * batch_size] = features_batch\n",
    "        labels[i * batch_size : (i + 1) * batch_size] = labels_batch\n",
    "        i += 1\n",
    "        if i * batch_size >= sample_count:\n",
    "            break\n",
    "    \n",
    "    del generator, features_batch\n",
    "    \n",
    "    return features, labels"
   ]
  },
  {
   "cell_type": "code",
   "execution_count": 8,
   "metadata": {
    "ExecuteTime": {
     "end_time": "2018-08-05T18:10:48.825199Z",
     "start_time": "2018-08-05T17:28:31.642673Z"
    }
   },
   "outputs": [
    {
     "name": "stdout",
     "output_type": "stream",
     "text": [
      "Found 2000 images belonging to 2 classes.\n"
     ]
    }
   ],
   "source": [
    "train_features, train_labels = extract_features(train_dir, 2000)"
   ]
  },
  {
   "cell_type": "code",
   "execution_count": 9,
   "metadata": {
    "ExecuteTime": {
     "end_time": "2018-08-05T18:31:56.149131Z",
     "start_time": "2018-08-05T18:10:48.851443Z"
    }
   },
   "outputs": [
    {
     "name": "stdout",
     "output_type": "stream",
     "text": [
      "Found 1000 images belonging to 2 classes.\n"
     ]
    }
   ],
   "source": [
    "validation_features, validation_labels = extract_features(validation_dir, 1000)"
   ]
  },
  {
   "cell_type": "code",
   "execution_count": 10,
   "metadata": {
    "ExecuteTime": {
     "end_time": "2018-08-05T18:54:06.429090Z",
     "start_time": "2018-08-05T18:31:56.154002Z"
    }
   },
   "outputs": [
    {
     "name": "stdout",
     "output_type": "stream",
     "text": [
      "Found 1000 images belonging to 2 classes.\n"
     ]
    }
   ],
   "source": [
    "test_features, test_labels = extract_features(test_dir, 1000)"
   ]
  },
  {
   "cell_type": "markdown",
   "metadata": {},
   "source": [
    "### The extracted features are currently of shape (samples, 4, 4, 512); we feed them to a densely connected classifier, so we flatten them to (samples, 8192)"
   ]
  },
  {
   "cell_type": "code",
   "execution_count": 11,
   "metadata": {
    "ExecuteTime": {
     "end_time": "2018-08-08T08:34:54.967761Z",
     "start_time": "2018-08-08T08:34:54.891497Z"
    }
   },
   "outputs": [],
   "source": [
    "train_features = np.reshape(train_features, (2000, 4 * 4 * 512))\n",
    "validation_features = np.reshape(validation_features, (1000, 4 * 4 * 512))\n",
    "test_features = np.reshape(test_features, (1000, 4 * 4 * 512))"
   ]
  },
  {
   "cell_type": "markdown",
   "metadata": {},
   "source": [
    "### Define your densely connected classifier"
   ]
  },
  {
   "cell_type": "code",
   "execution_count": 12,
   "metadata": {
    "ExecuteTime": {
     "end_time": "2018-08-08T08:48:23.269897Z",
     "start_time": "2018-08-08T08:48:12.604249Z"
    }
   },
   "outputs": [],
   "source": [
    "model = models.Sequential()\n",
    "model.add(layers.Dense(256, activation='relu', input_dim=4 * 4 * 512))\n",
    "\n",
    "#for regularisation\n",
    "model.add(layers.Dropout(0.5))\n",
    "\n",
    "model.add(layers.Dense(1, activation='sigmoid'))"
   ]
  },
  {
   "cell_type": "code",
   "execution_count": 13,
   "metadata": {
    "ExecuteTime": {
     "end_time": "2018-08-08T08:48:32.896144Z",
     "start_time": "2018-08-08T08:48:32.831232Z"
    }
   },
   "outputs": [],
   "source": [
    "model.compile(optimizer=optimizers.RMSprop(lr=2e-5), loss='binary_crossentropy', metrics=['acc'])"
   ]
  },
  {
   "cell_type": "code",
   "execution_count": 14,
   "metadata": {
    "ExecuteTime": {
     "end_time": "2018-08-08T16:55:27.042446Z",
     "start_time": "2018-08-08T16:44:40.403818Z"
    }
   },
   "outputs": [
    {
     "name": "stdout",
     "output_type": "stream",
     "text": [
      "Train on 2000 samples, validate on 1000 samples\n",
      "Epoch 1/30\n",
      "2000/2000 [==============================] - 1s 268us/step - loss: 3.8460 - acc: 0.6785 - val_loss: 0.9001 - val_acc: 0.9070\n",
      "Epoch 2/30\n",
      "2000/2000 [==============================] - 0s 141us/step - loss: 1.4513 - acc: 0.8645 - val_loss: 0.5401 - val_acc: 0.9470\n",
      "Epoch 3/30\n",
      "2000/2000 [==============================] - 0s 140us/step - loss: 1.1698 - acc: 0.8955 - val_loss: 0.5308 - val_acc: 0.9470\n",
      "Epoch 4/30\n",
      "2000/2000 [==============================] - 0s 140us/step - loss: 0.7287 - acc: 0.9255 - val_loss: 0.4766 - val_acc: 0.9520\n",
      "Epoch 5/30\n",
      "2000/2000 [==============================] - 0s 141us/step - loss: 0.6867 - acc: 0.9345 - val_loss: 0.3812 - val_acc: 0.9570\n",
      "Epoch 6/30\n",
      "2000/2000 [==============================] - 0s 141us/step - loss: 0.5106 - acc: 0.9540 - val_loss: 0.4061 - val_acc: 0.9620\n",
      "Epoch 7/30\n",
      "2000/2000 [==============================] - 0s 141us/step - loss: 0.5155 - acc: 0.9485 - val_loss: 0.3776 - val_acc: 0.9620\n",
      "Epoch 8/30\n",
      "2000/2000 [==============================] - 0s 140us/step - loss: 0.4788 - acc: 0.9560 - val_loss: 0.3332 - val_acc: 0.9650\n",
      "Epoch 9/30\n",
      "2000/2000 [==============================] - 0s 141us/step - loss: 0.4774 - acc: 0.9580 - val_loss: 0.3338 - val_acc: 0.9620\n",
      "Epoch 10/30\n",
      "2000/2000 [==============================] - 0s 140us/step - loss: 0.4482 - acc: 0.9615 - val_loss: 0.3103 - val_acc: 0.9660\n",
      "Epoch 11/30\n",
      "2000/2000 [==============================] - 0s 141us/step - loss: 0.3404 - acc: 0.9670 - val_loss: 0.3153 - val_acc: 0.9640\n",
      "Epoch 12/30\n",
      "2000/2000 [==============================] - 0s 140us/step - loss: 0.3173 - acc: 0.9665 - val_loss: 0.3078 - val_acc: 0.9660\n",
      "Epoch 13/30\n",
      "2000/2000 [==============================] - 0s 140us/step - loss: 0.2447 - acc: 0.9735 - val_loss: 0.3480 - val_acc: 0.9640\n",
      "Epoch 14/30\n",
      "2000/2000 [==============================] - 0s 140us/step - loss: 0.2368 - acc: 0.9715 - val_loss: 0.3130 - val_acc: 0.9670\n",
      "Epoch 15/30\n",
      "2000/2000 [==============================] - 0s 142us/step - loss: 0.2058 - acc: 0.9800 - val_loss: 0.2893 - val_acc: 0.9660\n",
      "Epoch 16/30\n",
      "2000/2000 [==============================] - 0s 141us/step - loss: 0.2319 - acc: 0.9755 - val_loss: 0.2871 - val_acc: 0.9660\n",
      "Epoch 17/30\n",
      "2000/2000 [==============================] - 0s 142us/step - loss: 0.2250 - acc: 0.9790 - val_loss: 0.3063 - val_acc: 0.9650\n",
      "Epoch 18/30\n",
      "2000/2000 [==============================] - 0s 140us/step - loss: 0.1830 - acc: 0.9810 - val_loss: 0.3079 - val_acc: 0.9660\n",
      "Epoch 19/30\n",
      "2000/2000 [==============================] - 0s 141us/step - loss: 0.1349 - acc: 0.9850 - val_loss: 0.2902 - val_acc: 0.9680\n",
      "Epoch 20/30\n",
      "2000/2000 [==============================] - 0s 141us/step - loss: 0.1237 - acc: 0.9855 - val_loss: 0.2912 - val_acc: 0.9670\n",
      "Epoch 21/30\n",
      "2000/2000 [==============================] - 0s 141us/step - loss: 0.1039 - acc: 0.9860 - val_loss: 0.2751 - val_acc: 0.9690\n",
      "Epoch 22/30\n",
      "2000/2000 [==============================] - 0s 141us/step - loss: 0.1213 - acc: 0.9855 - val_loss: 0.2948 - val_acc: 0.9660\n",
      "Epoch 23/30\n",
      "2000/2000 [==============================] - 0s 142us/step - loss: 0.0949 - acc: 0.9880 - val_loss: 0.2839 - val_acc: 0.9670\n",
      "Epoch 24/30\n",
      "2000/2000 [==============================] - 0s 141us/step - loss: 0.1239 - acc: 0.9880 - val_loss: 0.2887 - val_acc: 0.9670\n",
      "Epoch 25/30\n",
      "2000/2000 [==============================] - 0s 141us/step - loss: 0.1042 - acc: 0.9900 - val_loss: 0.2688 - val_acc: 0.9710\n",
      "Epoch 26/30\n",
      "2000/2000 [==============================] - 0s 141us/step - loss: 0.0880 - acc: 0.9905 - val_loss: 0.2685 - val_acc: 0.9720\n",
      "Epoch 27/30\n",
      "2000/2000 [==============================] - 0s 140us/step - loss: 0.0847 - acc: 0.9915 - val_loss: 0.3102 - val_acc: 0.9660\n",
      "Epoch 28/30\n",
      "2000/2000 [==============================] - 0s 140us/step - loss: 0.1022 - acc: 0.9880 - val_loss: 0.2694 - val_acc: 0.9710\n",
      "Epoch 29/30\n",
      "2000/2000 [==============================] - 0s 141us/step - loss: 0.0976 - acc: 0.9870 - val_loss: 0.2820 - val_acc: 0.9660\n",
      "Epoch 30/30\n",
      "2000/2000 [==============================] - 0s 141us/step - loss: 0.0763 - acc: 0.9925 - val_loss: 0.3133 - val_acc: 0.9660\n"
     ]
    }
   ],
   "source": [
    "history = model.fit(train_features, train_labels, epochs=30, batch_size=20,\n",
    "                    validation_data=(validation_features, validation_labels))"
   ]
  },
  {
   "cell_type": "markdown",
   "metadata": {},
   "source": [
    "# Plots"
   ]
  },
  {
   "cell_type": "markdown",
   "metadata": {},
   "source": [
    "###  These figures are dfferent with respect to the book (figs. 5.15 and 5.16), because I am now using \"preprocess_input\""
   ]
  },
  {
   "cell_type": "code",
   "execution_count": 15,
   "metadata": {
    "ExecuteTime": {
     "end_time": "2018-08-08T17:56:22.802926Z",
     "start_time": "2018-08-08T17:56:22.792618Z"
    }
   },
   "outputs": [],
   "source": [
    "acc = history.history['acc']\n",
    "val_acc = history.history['val_acc']\n",
    "loss = history.history['loss']\n",
    "val_loss = history.history['val_loss']\n",
    "epochs = range(1, len(acc) + 1)"
   ]
  },
  {
   "cell_type": "code",
   "execution_count": 16,
   "metadata": {
    "ExecuteTime": {
     "end_time": "2018-08-08T17:57:45.161257Z",
     "start_time": "2018-08-08T17:57:44.372460Z"
    }
   },
   "outputs": [
    {
     "data": {
      "image/png": "[encoded data removed]",
      "text/plain": [
       "<Figure size 432x288 with 1 Axes>"
      ]
     },
     "metadata": {},
     "output_type": "display_data"
    },
    {
     "data": {
      "image/png": "[encoded data removed]",
      "text/plain": [
       "<Figure size 432x288 with 1 Axes>"
      ]
     },
     "metadata": {},
     "output_type": "display_data"
    }
   ],
   "source": [
    "plt.plot(epochs, acc, 'bo', label='Training acc')\n",
    "plt.plot(epochs, val_acc, 'b', label='Validation acc')\n",
    "plt.title('Training and validation accuracy')\n",
    "plt.legend()\n",
    "\n",
    "plt.figure()\n",
    "\n",
    "plt.plot(epochs, loss, 'bo', label='Training loss')\n",
    "plt.plot(epochs, val_loss, 'b', label='Validation loss')\n",
    "plt.title('Training and validation loss')\n",
    "plt.legend()\n",
    "\n",
    "plt.show()"
   ]
  },
  {
   "cell_type": "markdown",
   "metadata": {},
   "source": [
    "### Note: in the book it is shown a strong overfitting despite dropout because there is no data augmentation. After the correct preprocessing the strong overfitting is not present and probably data augmentation will have no effect. "
   ]
  },
  {
   "cell_type": "code",
   "execution_count": null,
   "metadata": {},
   "outputs": [],
   "source": []
  }
 ],
 "metadata": {
  "kernelspec": {
   "display_name": "Python [conda env:deeplearning_keras]",
   "language": "python",
   "name": "conda-env-deeplearning_keras-py"
  },
  "language_info": {
   "codemirror_mode": {
    "name": "ipython",
    "version": 3
   },
   "file_extension": ".py",
   "mimetype": "text/x-python",
   "name": "python",
   "nbconvert_exporter": "python",
   "pygments_lexer": "ipython3",
   "version": "3.6.6"
  }
 },
 "nbformat": 4,
 "nbformat_minor": 2
}
