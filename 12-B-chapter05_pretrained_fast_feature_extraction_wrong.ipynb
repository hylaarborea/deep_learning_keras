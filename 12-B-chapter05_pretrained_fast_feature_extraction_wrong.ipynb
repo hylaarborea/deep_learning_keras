{
 "cells": [
  {
   "cell_type": "markdown",
   "metadata": {},
   "source": [
    "# Cats and dogs with pretrained convnet (I - no data augmentation)"
   ]
  },
  {
   "cell_type": "code",
   "execution_count": 20,
   "metadata": {
    "ExecuteTime": {
     "end_time": "2018-08-08T17:39:43.453057Z",
     "start_time": "2018-08-08T17:39:39.753431Z"
    },
    "collapsed": true
   },
   "outputs": [],
   "source": [
    "import os\n",
    "import numpy as np\n",
    "from keras.preprocessing.image import ImageDataGenerator\n",
    "\n",
    "from keras.applications import VGG16\n",
    "\n",
    "from keras import models\n",
    "from keras import layers\n",
    "from keras import optimizers\n",
    "\n",
    "import matplotlib.pyplot as plt"
   ]
  },
  {
   "cell_type": "markdown",
   "metadata": {},
   "source": [
    "### Define folders"
   ]
  },
  {
   "cell_type": "code",
   "execution_count": 2,
   "metadata": {
    "ExecuteTime": {
     "end_time": "2018-08-05T17:28:16.127210Z",
     "start_time": "2018-08-05T17:28:16.103184Z"
    },
    "collapsed": true
   },
   "outputs": [],
   "source": [
    "base_dir = './cats_and_dogs_small/'"
   ]
  },
  {
   "cell_type": "code",
   "execution_count": 12,
   "metadata": {
    "ExecuteTime": {
     "end_time": "2018-08-08T08:32:59.702784Z",
     "start_time": "2018-08-08T08:32:59.656741Z"
    },
    "collapsed": true
   },
   "outputs": [],
   "source": [
    "train_dir = os.path.join(base_dir, 'train')\n",
    "validation_dir = os.path.join(base_dir, 'validation')\n",
    "test_dir = os.path.join(base_dir, 'test')"
   ]
  },
  {
   "cell_type": "markdown",
   "metadata": {},
   "source": [
    "### Load pretrained convnet"
   ]
  },
  {
   "cell_type": "code",
   "execution_count": 3,
   "metadata": {
    "ExecuteTime": {
     "end_time": "2018-08-05T17:28:29.649649Z",
     "start_time": "2018-08-05T17:28:16.138394Z"
    }
   },
   "outputs": [
    {
     "name": "stderr",
     "output_type": "stream",
     "text": [
      "/datalinux/giudice/software/anaconda/anaconda3/envs/deeplearning_theano/lib/python3.7/site-packages/keras/utils/conv_utils.py:82: FutureWarning: Using a non-tuple sequence for multidimensional indexing is deprecated; use `arr[tuple(seq)]` instead of `arr[seq]`. In the future this will be interpreted as an array index, `arr[np.array(seq)]`, which will result either in an error or a different result.\n",
      "  return np.copy(kernel[slices])\n"
     ]
    }
   ],
   "source": [
    "conv_base = VGG16(weights='imagenet', include_top=False, input_shape=(150, 150, 3))"
   ]
  },
  {
   "cell_type": "code",
   "execution_count": 4,
   "metadata": {
    "ExecuteTime": {
     "end_time": "2018-08-05T17:28:31.418551Z",
     "start_time": "2018-08-05T17:28:29.667805Z"
    }
   },
   "outputs": [
    {
     "name": "stdout",
     "output_type": "stream",
     "text": [
      "_________________________________________________________________\n",
      "Layer (type)                 Output Shape              Param #   \n",
      "=================================================================\n",
      "input_1 (InputLayer)         (None, 150, 150, 3)       0         \n",
      "_________________________________________________________________\n",
      "block1_conv1 (Conv2D)        (None, 150, 150, 64)      1792      \n",
      "_________________________________________________________________\n",
      "block1_conv2 (Conv2D)        (None, 150, 150, 64)      36928     \n",
      "_________________________________________________________________\n",
      "block1_pool (MaxPooling2D)   (None, 75, 75, 64)        0         \n",
      "_________________________________________________________________\n",
      "block2_conv1 (Conv2D)        (None, 75, 75, 128)       73856     \n",
      "_________________________________________________________________\n",
      "block2_conv2 (Conv2D)        (None, 75, 75, 128)       147584    \n",
      "_________________________________________________________________\n",
      "block2_pool (MaxPooling2D)   (None, 37, 37, 128)       0         \n",
      "_________________________________________________________________\n",
      "block3_conv1 (Conv2D)        (None, 37, 37, 256)       295168    \n",
      "_________________________________________________________________\n",
      "block3_conv2 (Conv2D)        (None, 37, 37, 256)       590080    \n",
      "_________________________________________________________________\n",
      "block3_conv3 (Conv2D)        (None, 37, 37, 256)       590080    \n",
      "_________________________________________________________________\n",
      "block3_pool (MaxPooling2D)   (None, 18, 18, 256)       0         \n",
      "_________________________________________________________________\n",
      "block4_conv1 (Conv2D)        (None, 18, 18, 512)       1180160   \n",
      "_________________________________________________________________\n",
      "block4_conv2 (Conv2D)        (None, 18, 18, 512)       2359808   \n",
      "_________________________________________________________________\n",
      "block4_conv3 (Conv2D)        (None, 18, 18, 512)       2359808   \n",
      "_________________________________________________________________\n",
      "block4_pool (MaxPooling2D)   (None, 9, 9, 512)         0         \n",
      "_________________________________________________________________\n",
      "block5_conv1 (Conv2D)        (None, 9, 9, 512)         2359808   \n",
      "_________________________________________________________________\n",
      "block5_conv2 (Conv2D)        (None, 9, 9, 512)         2359808   \n",
      "_________________________________________________________________\n",
      "block5_conv3 (Conv2D)        (None, 9, 9, 512)         2359808   \n",
      "_________________________________________________________________\n",
      "block5_pool (MaxPooling2D)   (None, 4, 4, 512)         0         \n",
      "=================================================================\n",
      "Total params: 14,714,688\n",
      "Trainable params: 14,714,688\n",
      "Non-trainable params: 0\n",
      "_________________________________________________________________\n"
     ]
    }
   ],
   "source": [
    "conv_base.summary()"
   ]
  },
  {
   "cell_type": "markdown",
   "metadata": {
    "ExecuteTime": {
     "end_time": "2018-08-05T17:28:31.431159Z",
     "start_time": "2018-08-05T17:28:31.424498Z"
    },
    "collapsed": true
   },
   "source": [
    "### Extract features"
   ]
  },
  {
   "cell_type": "code",
   "execution_count": 6,
   "metadata": {
    "ExecuteTime": {
     "end_time": "2018-08-05T17:28:31.537489Z",
     "start_time": "2018-08-05T17:28:31.436922Z"
    },
    "collapsed": true
   },
   "outputs": [],
   "source": [
    "datagen = ImageDataGenerator(rescale=1./255)\n",
    "batch_size = 20"
   ]
  },
  {
   "cell_type": "code",
   "execution_count": 7,
   "metadata": {
    "ExecuteTime": {
     "end_time": "2018-08-05T17:28:31.637814Z",
     "start_time": "2018-08-05T17:28:31.542735Z"
    },
    "collapsed": true
   },
   "outputs": [],
   "source": [
    "def extract_features(directory, sample_count):\n",
    "    features = np.zeros(shape=(sample_count, 4, 4, 512))\n",
    "    labels = np.zeros(shape=(sample_count))\n",
    "    generator = datagen.flow_from_directory(directory,target_size=(150, 150), batch_size=batch_size, class_mode='binary')\n",
    "    i = 0\n",
    "    for inputs_batch, labels_batch in generator:\n",
    "        features_batch = conv_base.predict(inputs_batch)\n",
    "        features[i * batch_size : (i + 1) * batch_size] = features_batch\n",
    "        labels[i * batch_size : (i + 1) * batch_size] = labels_batch\n",
    "        i += 1\n",
    "        if i * batch_size >= sample_count:\n",
    "            break\n",
    "    return features, labels"
   ]
  },
  {
   "cell_type": "code",
   "execution_count": 8,
   "metadata": {
    "ExecuteTime": {
     "end_time": "2018-08-05T18:10:48.825199Z",
     "start_time": "2018-08-05T17:28:31.642673Z"
    }
   },
   "outputs": [
    {
     "name": "stdout",
     "output_type": "stream",
     "text": [
      "Found 2000 images belonging to 2 classes.\n"
     ]
    }
   ],
   "source": [
    "train_features, train_labels = extract_features(train_dir, 2000)\n",
    "# validation_features, validation_labels = extract_features(validation_dir, 1000)\n",
    "# test_features, test_labels = extract_features(test_dir, 1000)"
   ]
  },
  {
   "cell_type": "code",
   "execution_count": 9,
   "metadata": {
    "ExecuteTime": {
     "end_time": "2018-08-05T18:31:56.149131Z",
     "start_time": "2018-08-05T18:10:48.851443Z"
    }
   },
   "outputs": [
    {
     "name": "stdout",
     "output_type": "stream",
     "text": [
      "Found 1000 images belonging to 2 classes.\n"
     ]
    }
   ],
   "source": [
    "validation_features, validation_labels = extract_features(validation_dir, 1000)"
   ]
  },
  {
   "cell_type": "code",
   "execution_count": 10,
   "metadata": {
    "ExecuteTime": {
     "end_time": "2018-08-05T18:54:06.429090Z",
     "start_time": "2018-08-05T18:31:56.154002Z"
    }
   },
   "outputs": [
    {
     "name": "stdout",
     "output_type": "stream",
     "text": [
      "Found 1000 images belonging to 2 classes.\n"
     ]
    }
   ],
   "source": [
    "test_features, test_labels = extract_features(test_dir, 1000)"
   ]
  },
  {
   "cell_type": "markdown",
   "metadata": {},
   "source": [
    "### The extracted features are currently of shape (samples, 4, 4, 512); we feed them to a densely connected classifier, so we flatten them to (samples, 8192)"
   ]
  },
  {
   "cell_type": "code",
   "execution_count": 13,
   "metadata": {
    "ExecuteTime": {
     "end_time": "2018-08-08T08:34:54.967761Z",
     "start_time": "2018-08-08T08:34:54.891497Z"
    },
    "collapsed": true
   },
   "outputs": [],
   "source": [
    "train_features = np.reshape(train_features, (2000, 4 * 4 * 512))\n",
    "validation_features = np.reshape(validation_features, (1000, 4 * 4 * 512))\n",
    "test_features = np.reshape(test_features, (1000, 4 * 4 * 512))"
   ]
  },
  {
   "cell_type": "markdown",
   "metadata": {},
   "source": [
    "### Define your densely connected classifier"
   ]
  },
  {
   "cell_type": "code",
   "execution_count": 15,
   "metadata": {
    "ExecuteTime": {
     "end_time": "2018-08-08T08:48:23.269897Z",
     "start_time": "2018-08-08T08:48:12.604249Z"
    },
    "collapsed": true
   },
   "outputs": [],
   "source": [
    "model = models.Sequential()\n",
    "model.add(layers.Dense(256, activation='relu', input_dim=4 * 4 * 512))\n",
    "\n",
    "#for regularisation\n",
    "model.add(layers.Dropout(0.5))\n",
    "\n",
    "model.add(layers.Dense(1, activation='sigmoid'))"
   ]
  },
  {
   "cell_type": "code",
   "execution_count": 17,
   "metadata": {
    "ExecuteTime": {
     "end_time": "2018-08-08T08:48:32.896144Z",
     "start_time": "2018-08-08T08:48:32.831232Z"
    },
    "collapsed": true
   },
   "outputs": [],
   "source": [
    "model.compile(optimizer=optimizers.RMSprop(lr=2e-5), loss='binary_crossentropy', metrics=['acc'])"
   ]
  },
  {
   "cell_type": "code",
   "execution_count": 18,
   "metadata": {
    "ExecuteTime": {
     "end_time": "2018-08-08T16:55:27.042446Z",
     "start_time": "2018-08-08T16:44:40.403818Z"
    }
   },
   "outputs": [
    {
     "name": "stdout",
     "output_type": "stream",
     "text": [
      "Train on 2000 samples, validate on 1000 samples\n",
      "Epoch 1/30\n",
      "2000/2000 [==============================] - 18s 9ms/step - loss: 0.6200 - acc: 0.6610 - val_loss: 0.4438 - val_acc: 0.8290\n",
      "Epoch 2/30\n",
      "2000/2000 [==============================] - 17s 8ms/step - loss: 0.4328 - acc: 0.8095 - val_loss: 0.3638 - val_acc: 0.8600\n",
      "Epoch 3/30\n",
      "2000/2000 [==============================] - 17s 8ms/step - loss: 0.3475 - acc: 0.8570 - val_loss: 0.3208 - val_acc: 0.8790\n",
      "Epoch 4/30\n",
      "2000/2000 [==============================] - 17s 8ms/step - loss: 0.3086 - acc: 0.8730 - val_loss: 0.3007 - val_acc: 0.8860\n",
      "Epoch 5/30\n",
      "2000/2000 [==============================] - 17s 8ms/step - loss: 0.2863 - acc: 0.8845 - val_loss: 0.2869 - val_acc: 0.8800\n",
      "Epoch 6/30\n",
      "2000/2000 [==============================] - 17s 8ms/step - loss: 0.2667 - acc: 0.8950 - val_loss: 0.2742 - val_acc: 0.8940\n",
      "Epoch 7/30\n",
      "2000/2000 [==============================] - 17s 9ms/step - loss: 0.2444 - acc: 0.9045 - val_loss: 0.2745 - val_acc: 0.8890\n",
      "Epoch 8/30\n",
      "2000/2000 [==============================] - 18s 9ms/step - loss: 0.2209 - acc: 0.9180 - val_loss: 0.2571 - val_acc: 0.9000\n",
      "Epoch 9/30\n",
      "2000/2000 [==============================] - 18s 9ms/step - loss: 0.2148 - acc: 0.9160 - val_loss: 0.2598 - val_acc: 0.8910\n",
      "Epoch 10/30\n",
      "2000/2000 [==============================] - 19s 9ms/step - loss: 0.2128 - acc: 0.9160 - val_loss: 0.2491 - val_acc: 0.9000\n",
      "Epoch 11/30\n",
      "2000/2000 [==============================] - 20s 10ms/step - loss: 0.1979 - acc: 0.9290 - val_loss: 0.2479 - val_acc: 0.9040\n",
      "Epoch 12/30\n",
      "2000/2000 [==============================] - 20s 10ms/step - loss: 0.1825 - acc: 0.9355 - val_loss: 0.2433 - val_acc: 0.9000\n",
      "Epoch 13/30\n",
      "2000/2000 [==============================] - 20s 10ms/step - loss: 0.1761 - acc: 0.9405 - val_loss: 0.2465 - val_acc: 0.8990\n",
      "Epoch 14/30\n",
      "2000/2000 [==============================] - 20s 10ms/step - loss: 0.1676 - acc: 0.9400 - val_loss: 0.2560 - val_acc: 0.8900\n",
      "Epoch 15/30\n",
      "2000/2000 [==============================] - 20s 10ms/step - loss: 0.1623 - acc: 0.9380 - val_loss: 0.2394 - val_acc: 0.9010 0.937\n",
      "Epoch 16/30\n",
      "2000/2000 [==============================] - 20s 10ms/step - loss: 0.1490 - acc: 0.9465 - val_loss: 0.2524 - val_acc: 0.8930\n",
      "Epoch 17/30\n",
      "2000/2000 [==============================] - 21s 10ms/step - loss: 0.1523 - acc: 0.9460 - val_loss: 0.2406 - val_acc: 0.9010533 - acc: 0 - ETA: 3s - loss: 0.154\n",
      "Epoch 18/30\n",
      "2000/2000 [==============================] - 21s 10ms/step - loss: 0.1430 - acc: 0.9535 - val_loss: 0.2403 - val_acc: 0.9020\n",
      "Epoch 19/30\n",
      "2000/2000 [==============================] - 21s 10ms/step - loss: 0.1328 - acc: 0.9525 - val_loss: 0.2384 - val_acc: 0.9000\n",
      "Epoch 20/30\n",
      "2000/2000 [==============================] - 21s 10ms/step - loss: 0.1306 - acc: 0.9560 - val_loss: 0.2376 - val_acc: 0.9030\n",
      "Epoch 21/30\n",
      "2000/2000 [==============================] - 21s 10ms/step - loss: 0.1188 - acc: 0.9600 - val_loss: 0.2672 - val_acc: 0.8880\n",
      "Epoch 22/30\n",
      "2000/2000 [==============================] - 21s 10ms/step - loss: 0.1167 - acc: 0.9615 - val_loss: 0.2377 - val_acc: 0.9040\n",
      "Epoch 23/30\n",
      "2000/2000 [==============================] - 21s 11ms/step - loss: 0.1130 - acc: 0.9635 - val_loss: 0.2409 - val_acc: 0.9020s: 0.1 - ETA: 3s - loss: 0.11\n",
      "Epoch 24/30\n",
      "2000/2000 [==============================] - 21s 10ms/step - loss: 0.1142 - acc: 0.9580 - val_loss: 0.2368 - val_acc: 0.9060\n",
      "Epoch 25/30\n",
      "2000/2000 [==============================] - 21s 10ms/step - loss: 0.1075 - acc: 0.9660 - val_loss: 0.2394 - val_acc: 0.9030\n",
      "Epoch 26/30\n",
      "2000/2000 [==============================] - 21s 10ms/step - loss: 0.1019 - acc: 0.9700 - val_loss: 0.2406 - val_acc: 0.9040\n",
      "Epoch 27/30\n",
      "2000/2000 [==============================] - 21s 10ms/step - loss: 0.0948 - acc: 0.9665 - val_loss: 0.2475 - val_acc: 0.9000\n",
      "Epoch 28/30\n",
      "2000/2000 [==============================] - 21s 11ms/step - loss: 0.0926 - acc: 0.9715 - val_loss: 0.2419 - val_acc: 0.9000- ETA: 3s - loss: 0.09\n",
      "Epoch 29/30\n",
      "2000/2000 [==============================] - 21s 10ms/step - loss: 0.0913 - acc: 0.9715 - val_loss: 0.2444 - val_acc: 0.9010\n",
      "Epoch 30/30\n",
      "2000/2000 [==============================] - 21s 11ms/step - loss: 0.0802 - acc: 0.9790 - val_loss: 0.2427 - val_acc: 0.8970\n"
     ]
    }
   ],
   "source": [
    "history = model.fit(train_features, train_labels, epochs=30, batch_size=20,\n",
    "                    validation_data=(validation_features, validation_labels))"
   ]
  },
  {
   "cell_type": "markdown",
   "metadata": {},
   "source": [
    "# Plots"
   ]
  },
  {
   "cell_type": "code",
   "execution_count": 21,
   "metadata": {
    "ExecuteTime": {
     "end_time": "2018-08-08T17:56:22.802926Z",
     "start_time": "2018-08-08T17:56:22.792618Z"
    },
    "collapsed": true
   },
   "outputs": [],
   "source": [
    "acc = history.history['acc']\n",
    "val_acc = history.history['val_acc']\n",
    "loss = history.history['loss']\n",
    "val_loss = history.history['val_loss']\n",
    "epochs = range(1, len(acc) + 1)"
   ]
  },
  {
   "cell_type": "code",
   "execution_count": 23,
   "metadata": {
    "ExecuteTime": {
     "end_time": "2018-08-08T17:57:45.161257Z",
     "start_time": "2018-08-08T17:57:44.372460Z"
    }
   },
   "outputs": [
    {
     "data": {
      "image/png": "[encoded data removed]",
      "text/plain": [
       "<Figure size 432x288 with 1 Axes>"
      ]
     },
     "metadata": {},
     "output_type": "display_data"
    },
    {
     "data": {
      "image/png": "[encoded data removed]",
      "text/plain": [
       "<Figure size 432x288 with 1 Axes>"
      ]
     },
     "metadata": {},
     "output_type": "display_data"
    }
   ],
   "source": [
    "plt.plot(epochs, acc, 'bo', label='Training acc')\n",
    "plt.plot(epochs, val_acc, 'b', label='Validation acc')\n",
    "plt.title('Training and validation accuracy')\n",
    "plt.legend()\n",
    "\n",
    "plt.figure()\n",
    "\n",
    "plt.plot(epochs, loss, 'bo', label='Training loss')\n",
    "plt.plot(epochs, val_loss, 'b', label='Validation loss')\n",
    "plt.title('Training and validation loss')\n",
    "plt.legend()\n",
    "\n",
    "plt.show()"
   ]
  },
  {
   "cell_type": "markdown",
   "metadata": {},
   "source": [
    "### Note: huge overfitting despite dropout; this because no data augmentation !!!"
   ]
  },
  {
   "cell_type": "code",
   "execution_count": null,
   "metadata": {
    "collapsed": true
   },
   "outputs": [],
   "source": []
  }
 ],
 "metadata": {
  "kernelspec": {
   "display_name": "Python [conda env:deeplearning_theano]",
   "language": "python",
   "name": "conda-env-deeplearning_theano-py"
  },
  "language_info": {
   "codemirror_mode": {
    "name": "ipython",
    "version": 3
   },
   "file_extension": ".py",
   "mimetype": "text/x-python",
   "name": "python",
   "nbconvert_exporter": "python",
   "pygments_lexer": "ipython3",
   "version": "3.7.0"
  }
 },
 "nbformat": 4,
 "nbformat_minor": 2
}
