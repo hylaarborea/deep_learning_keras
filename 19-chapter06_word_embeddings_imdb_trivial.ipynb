{
 "cells": [
  {
   "cell_type": "markdown",
   "metadata": {},
   "source": [
    "# Using an Embedding layer and classifier on the IMDB data"
   ]
  },
  {
   "cell_type": "markdown",
   "metadata": {
    "ExecuteTime": {
     "end_time": "2018-11-20T12:00:59.788066Z",
     "start_time": "2018-11-20T12:00:59.780225Z"
    }
   },
   "source": [
    "### (This model is trivial because we just flatten the embedded sequence, so we do not consider the inter-word relationship)"
   ]
  },
  {
   "cell_type": "code",
   "execution_count": 1,
   "metadata": {
    "ExecuteTime": {
     "end_time": "2018-11-20T12:01:35.925314Z",
     "start_time": "2018-11-20T12:01:32.202993Z"
    }
   },
   "outputs": [
    {
     "name": "stderr",
     "output_type": "stream",
     "text": [
      "Using Theano backend.\n"
     ]
    }
   ],
   "source": [
    "from keras.layers import Embedding\n",
    "from keras.datasets import imdb\n",
    "from keras import preprocessing\n",
    "\n",
    "from keras.models import Sequential\n",
    "from keras.layers import Flatten, Dense"
   ]
  },
  {
   "cell_type": "code",
   "execution_count": 2,
   "metadata": {
    "ExecuteTime": {
     "end_time": "2018-11-20T12:01:35.937791Z",
     "start_time": "2018-11-20T12:01:35.931731Z"
    },
    "collapsed": true
   },
   "outputs": [],
   "source": [
    "max_features = 10000\n",
    "maxlen = 20"
   ]
  },
  {
   "cell_type": "code",
   "execution_count": 3,
   "metadata": {
    "ExecuteTime": {
     "end_time": "2018-11-20T12:01:50.116526Z",
     "start_time": "2018-11-20T12:01:35.943302Z"
    },
    "collapsed": true
   },
   "outputs": [],
   "source": [
    "(x_train, y_train), (x_test, y_test) = imdb.load_data(num_words=max_features)"
   ]
  },
  {
   "cell_type": "code",
   "execution_count": 4,
   "metadata": {
    "ExecuteTime": {
     "end_time": "2018-11-20T12:01:50.153217Z",
     "start_time": "2018-11-20T12:01:50.123682Z"
    }
   },
   "outputs": [
    {
     "data": {
      "text/plain": [
       "(25000,)"
      ]
     },
     "execution_count": 4,
     "metadata": {},
     "output_type": "execute_result"
    }
   ],
   "source": [
    "x_train.shape"
   ]
  },
  {
   "cell_type": "code",
   "execution_count": 5,
   "metadata": {
    "ExecuteTime": {
     "end_time": "2018-11-20T12:01:50.245684Z",
     "start_time": "2018-11-20T12:01:50.159663Z"
    }
   },
   "outputs": [
    {
     "data": {
      "text/plain": [
       "list"
      ]
     },
     "execution_count": 5,
     "metadata": {},
     "output_type": "execute_result"
    }
   ],
   "source": [
    "type(x_train[0])"
   ]
  },
  {
   "cell_type": "markdown",
   "metadata": {},
   "source": [
    "#### Each text has a different lenght:"
   ]
  },
  {
   "cell_type": "code",
   "execution_count": 6,
   "metadata": {
    "ExecuteTime": {
     "end_time": "2018-11-20T12:01:50.364981Z",
     "start_time": "2018-11-20T12:01:50.252610Z"
    }
   },
   "outputs": [
    {
     "data": {
      "text/plain": [
       "[218, 189, 141, 550, 147, 43, 123]"
      ]
     },
     "execution_count": 6,
     "metadata": {},
     "output_type": "execute_result"
    }
   ],
   "source": [
    "[len(text) for text in x_train][:7]"
   ]
  },
  {
   "cell_type": "markdown",
   "metadata": {},
   "source": [
    "#### Therefore we pad the sequence:"
   ]
  },
  {
   "cell_type": "code",
   "execution_count": 7,
   "metadata": {
    "ExecuteTime": {
     "end_time": "2018-11-20T12:01:52.204894Z",
     "start_time": "2018-11-20T12:01:50.372610Z"
    },
    "collapsed": true
   },
   "outputs": [],
   "source": [
    "x_train = preprocessing.sequence.pad_sequences(x_train, maxlen=maxlen)\n",
    "x_test = preprocessing.sequence.pad_sequences(x_test, maxlen=maxlen)"
   ]
  },
  {
   "cell_type": "code",
   "execution_count": 8,
   "metadata": {
    "ExecuteTime": {
     "end_time": "2018-11-20T12:01:52.288264Z",
     "start_time": "2018-11-20T12:01:52.221959Z"
    }
   },
   "outputs": [
    {
     "data": {
      "text/plain": [
       "[20, 20, 20, 20, 20, 20, 20]"
      ]
     },
     "execution_count": 8,
     "metadata": {},
     "output_type": "execute_result"
    }
   ],
   "source": [
    "[len(text) for text in x_train][:7]"
   ]
  },
  {
   "cell_type": "markdown",
   "metadata": {},
   "source": [
    "#### Buud the model"
   ]
  },
  {
   "cell_type": "code",
   "execution_count": 9,
   "metadata": {
    "ExecuteTime": {
     "end_time": "2018-11-20T12:01:57.807424Z",
     "start_time": "2018-11-20T12:01:52.295999Z"
    },
    "collapsed": true
   },
   "outputs": [],
   "source": [
    "model = Sequential()\n",
    "\n",
    "#The Embedding layer is best understood as a dictionary that maps integer indices \n",
    "#(which stand for specific words) to dense vectors.\n",
    "\n",
    "# imput: the number of possible tokens and the dimensionality of the embeddings\n",
    "model.add(Embedding(10000, 8, input_length=maxlen))\n",
    "\n",
    "model.add(Flatten())\n",
    "\n",
    "model.add(Dense(1, activation='sigmoid')) #classifier"
   ]
  },
  {
   "cell_type": "code",
   "execution_count": 10,
   "metadata": {
    "ExecuteTime": {
     "end_time": "2018-11-20T12:01:57.926464Z",
     "start_time": "2018-11-20T12:01:57.821277Z"
    },
    "collapsed": true
   },
   "outputs": [],
   "source": [
    "model.compile(optimizer='rmsprop', loss='binary_crossentropy', metrics=['acc'])"
   ]
  },
  {
   "cell_type": "code",
   "execution_count": 11,
   "metadata": {
    "ExecuteTime": {
     "end_time": "2018-11-20T12:01:58.327227Z",
     "start_time": "2018-11-20T12:01:57.946910Z"
    }
   },
   "outputs": [
    {
     "name": "stdout",
     "output_type": "stream",
     "text": [
      "_________________________________________________________________\n",
      "Layer (type)                 Output Shape              Param #   \n",
      "=================================================================\n",
      "embedding_1 (Embedding)      (None, 20, 8)             80000     \n",
      "_________________________________________________________________\n",
      "flatten_1 (Flatten)          (None, 160)               0         \n",
      "_________________________________________________________________\n",
      "dense_1 (Dense)              (None, 1)                 161       \n",
      "=================================================================\n",
      "Total params: 80,161\n",
      "Trainable params: 80,161\n",
      "Non-trainable params: 0\n",
      "_________________________________________________________________\n"
     ]
    }
   ],
   "source": [
    "model.summary()"
   ]
  },
  {
   "cell_type": "code",
   "execution_count": 12,
   "metadata": {
    "ExecuteTime": {
     "end_time": "2018-11-20T12:03:43.162980Z",
     "start_time": "2018-11-20T12:01:58.347485Z"
    }
   },
   "outputs": [
    {
     "name": "stdout",
     "output_type": "stream",
     "text": [
      "Train on 20000 samples, validate on 5000 samples\n",
      "Epoch 1/10\n",
      "20000/20000 [==============================] - 7s 353us/step - loss: 0.6629 - acc: 0.6323 - val_loss: 0.6054 - val_acc: 0.7046\n",
      "Epoch 2/10\n",
      "20000/20000 [==============================] - 8s 404us/step - loss: 0.5316 - acc: 0.7546 - val_loss: 0.5205 - val_acc: 0.7386\n",
      "Epoch 3/10\n",
      "20000/20000 [==============================] - 7s 368us/step - loss: 0.4568 - acc: 0.7890 - val_loss: 0.4976 - val_acc: 0.7476\n",
      "Epoch 4/10\n",
      "20000/20000 [==============================] - 8s 408us/step - loss: 0.4186 - acc: 0.8097 - val_loss: 0.4924 - val_acc: 0.7528\n",
      "Epoch 5/10\n",
      "20000/20000 [==============================] - 9s 430us/step - loss: 0.3906 - acc: 0.8261 - val_loss: 0.4921 - val_acc: 0.7552\n",
      "Epoch 6/10\n",
      "20000/20000 [==============================] - 12s 575us/step - loss: 0.3681 - acc: 0.8378 - val_loss: 0.4963 - val_acc: 0.7540\n",
      "Epoch 7/10\n",
      "20000/20000 [==============================] - 12s 616us/step - loss: 0.3476 - acc: 0.8501 - val_loss: 0.4998 - val_acc: 0.7556\n",
      "Epoch 8/10\n",
      "20000/20000 [==============================] - 12s 577us/step - loss: 0.3290 - acc: 0.8609 - val_loss: 0.5080 - val_acc: 0.7548\n",
      "Epoch 9/10\n",
      "20000/20000 [==============================] - 11s 527us/step - loss: 0.3117 - acc: 0.8714 - val_loss: 0.5157 - val_acc: 0.7548\n",
      "Epoch 10/10\n",
      "20000/20000 [==============================] - 10s 507us/step - loss: 0.2957 - acc: 0.8793 - val_loss: 0.5242 - val_acc: 0.7532\n"
     ]
    }
   ],
   "source": [
    "history = model.fit(x_train, y_train, epochs=10, batch_size=32, validation_split=0.2)"
   ]
  },
  {
   "cell_type": "code",
   "execution_count": 13,
   "metadata": {
    "ExecuteTime": {
     "end_time": "2018-11-20T12:03:45.870362Z",
     "start_time": "2018-11-20T12:03:43.197627Z"
    }
   },
   "outputs": [
    {
     "name": "stdout",
     "output_type": "stream",
     "text": [
      "25000/25000 [==============================] - 3s 105us/step\n"
     ]
    }
   ],
   "source": [
    "results = model.evaluate(x_test, y_test)"
   ]
  },
  {
   "cell_type": "code",
   "execution_count": 14,
   "metadata": {
    "ExecuteTime": {
     "end_time": "2018-11-20T12:03:45.922044Z",
     "start_time": "2018-11-20T12:03:45.888924Z"
    }
   },
   "outputs": [
    {
     "data": {
      "text/plain": [
       "[0.5189038878059388, 0.75788]"
      ]
     },
     "execution_count": 14,
     "metadata": {},
     "output_type": "execute_result"
    }
   ],
   "source": [
    "results"
   ]
  },
  {
   "cell_type": "code",
   "execution_count": 15,
   "metadata": {
    "ExecuteTime": {
     "end_time": "2018-11-20T12:03:47.468999Z",
     "start_time": "2018-11-20T12:03:45.928945Z"
    }
   },
   "outputs": [
    {
     "data": {
      "text/plain": [
       "array([[0.23037353],\n",
       "       [0.8631126 ],\n",
       "       [0.3782616 ],\n",
       "       ...,\n",
       "       [0.1403614 ],\n",
       "       [0.22116195],\n",
       "       [0.86179817]], dtype=float32)"
      ]
     },
     "execution_count": 15,
     "metadata": {},
     "output_type": "execute_result"
    }
   ],
   "source": [
    "model.predict(x_test)"
   ]
  },
  {
   "cell_type": "code",
   "execution_count": null,
   "metadata": {
    "collapsed": true
   },
   "outputs": [],
   "source": []
  }
 ],
 "metadata": {
  "kernelspec": {
   "display_name": "Python [conda env:deeplearning_theano]",
   "language": "python",
   "name": "conda-env-deeplearning_theano-py"
  },
  "language_info": {
   "codemirror_mode": {
    "name": "ipython",
    "version": 3
   },
   "file_extension": ".py",
   "mimetype": "text/x-python",
   "name": "python",
   "nbconvert_exporter": "python",
   "pygments_lexer": "ipython3",
   "version": "3.7.0"
  }
 },
 "nbformat": 4,
 "nbformat_minor": 2
}
