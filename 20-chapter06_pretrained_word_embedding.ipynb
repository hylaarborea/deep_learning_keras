{
 "cells": [
  {
   "cell_type": "markdown",
   "metadata": {},
   "source": [
    "# Build a model using pretrained word embeddings (glove)\n",
    "\n",
    "(here we go from raw text to word embeddings)"
   ]
  },
  {
   "cell_type": "code",
   "execution_count": 1,
   "metadata": {
    "ExecuteTime": {
     "end_time": "2018-11-20T15:55:14.602276Z",
     "start_time": "2018-11-20T15:55:01.718735Z"
    }
   },
   "outputs": [
    {
     "name": "stderr",
     "output_type": "stream",
     "text": [
      "Using Theano backend.\n"
     ]
    }
   ],
   "source": [
    "import os\n",
    "import zipfile\n",
    "\n",
    "from keras.preprocessing.text import Tokenizer\n",
    "from keras.preprocessing.sequence import pad_sequences\n",
    "import numpy as np\n",
    "\n",
    "from keras.models import Sequential\n",
    "from keras.layers import Embedding, Flatten, Dense\n",
    "\n",
    "import matplotlib.pyplot as plt"
   ]
  },
  {
   "cell_type": "markdown",
   "metadata": {},
   "source": [
    "### Parameters"
   ]
  },
  {
   "cell_type": "code",
   "execution_count": 2,
   "metadata": {
    "ExecuteTime": {
     "end_time": "2018-11-20T15:55:14.622465Z",
     "start_time": "2018-11-20T15:55:14.608278Z"
    },
    "collapsed": true
   },
   "outputs": [],
   "source": [
    "imdb_dataset_dir = './imdb_raw/'\n",
    "imdb_file = imdb_dataset_dir+'aclImdb.zip'"
   ]
  },
  {
   "cell_type": "code",
   "execution_count": 3,
   "metadata": {
    "ExecuteTime": {
     "end_time": "2018-11-20T15:55:14.682056Z",
     "start_time": "2018-11-20T15:55:14.628534Z"
    },
    "collapsed": true
   },
   "outputs": [],
   "source": [
    "zipfolder = 'https://mng.bz/0tIo'"
   ]
  },
  {
   "cell_type": "markdown",
   "metadata": {},
   "source": [
    "### Download Data"
   ]
  },
  {
   "cell_type": "code",
   "execution_count": 4,
   "metadata": {
    "ExecuteTime": {
     "end_time": "2018-11-20T15:55:14.748770Z",
     "start_time": "2018-11-20T15:55:14.687524Z"
    }
   },
   "outputs": [],
   "source": [
    "if not os.path.exists(imdb_dataset_dir):\n",
    "    os.mkdir(imdb_dataset_dir)\n",
    "    \n",
    "    os.system(\"wget --no-check-certificate \" + zipfolder +' -O '+ imdb_file)\n",
    "    print(\"Data downloaded!\")\n",
    "    \n",
    "    with zipfile.ZipFile(imdb_file,\"r\") as zip_ref:\n",
    "        zip_ref.extractall(imdb_dataset_dir)\n",
    "    print(\"Folder unzipped!\")"
   ]
  },
  {
   "cell_type": "markdown",
   "metadata": {},
   "source": [
    "## Processing the labels of the raw IMDB data"
   ]
  },
  {
   "cell_type": "code",
   "execution_count": 5,
   "metadata": {
    "ExecuteTime": {
     "end_time": "2018-11-20T15:55:14.881747Z",
     "start_time": "2018-11-20T15:55:14.755375Z"
    },
    "collapsed": true
   },
   "outputs": [],
   "source": [
    "imdb_dir = imdb_dataset_dir + '/aclImdb/'"
   ]
  },
  {
   "cell_type": "code",
   "execution_count": 6,
   "metadata": {
    "ExecuteTime": {
     "end_time": "2018-11-20T15:55:14.976037Z",
     "start_time": "2018-11-20T15:55:14.898551Z"
    },
    "collapsed": true
   },
   "outputs": [],
   "source": [
    "train_dir = os.path.join(imdb_dir, 'train')"
   ]
  },
  {
   "cell_type": "code",
   "execution_count": 7,
   "metadata": {
    "ExecuteTime": {
     "end_time": "2018-11-20T15:59:15.984575Z",
     "start_time": "2018-11-20T15:55:14.982189Z"
    },
    "collapsed": true
   },
   "outputs": [],
   "source": [
    "labels = []\n",
    "texts = []\n",
    "for label_type in ['neg', 'pos']:\n",
    "    dir_name = os.path.join(train_dir, label_type)\n",
    "    for fname in os.listdir(dir_name):\n",
    "        if fname[-4:] == '.txt':\n",
    "            f = open(os.path.join(dir_name, fname))\n",
    "            texts.append(f.read())\n",
    "            f.close()\n",
    "            if label_type == 'neg':\n",
    "                labels.append(0)\n",
    "            else:\n",
    "                labels.append(1)"
   ]
  },
  {
   "cell_type": "code",
   "execution_count": 8,
   "metadata": {
    "ExecuteTime": {
     "end_time": "2018-11-20T15:59:16.030105Z",
     "start_time": "2018-11-20T15:59:16.001673Z"
    }
   },
   "outputs": [
    {
     "data": {
      "text/plain": [
       "25000"
      ]
     },
     "execution_count": 8,
     "metadata": {},
     "output_type": "execute_result"
    }
   ],
   "source": [
    "len(labels)"
   ]
  },
  {
   "cell_type": "code",
   "execution_count": 9,
   "metadata": {
    "ExecuteTime": {
     "end_time": "2018-11-20T15:59:16.103404Z",
     "start_time": "2018-11-20T15:59:16.039918Z"
    }
   },
   "outputs": [
    {
     "data": {
      "text/plain": [
       "25000"
      ]
     },
     "execution_count": 9,
     "metadata": {},
     "output_type": "execute_result"
    }
   ],
   "source": [
    "len(texts)"
   ]
  },
  {
   "cell_type": "markdown",
   "metadata": {
    "ExecuteTime": {
     "end_time": "2018-11-20T14:15:30.127401Z",
     "start_time": "2018-11-20T14:15:30.117450Z"
    }
   },
   "source": [
    "# Tokenizing the text of the raw IMDB data"
   ]
  },
  {
   "cell_type": "markdown",
   "metadata": {},
   "source": [
    "#### (we rescrict to only 200 samples!)"
   ]
  },
  {
   "cell_type": "code",
   "execution_count": 10,
   "metadata": {
    "ExecuteTime": {
     "end_time": "2018-11-20T15:59:16.175904Z",
     "start_time": "2018-11-20T15:59:16.111268Z"
    },
    "collapsed": true
   },
   "outputs": [],
   "source": [
    "maxlen = 100\n",
    "# Cuts off reviews after 100 words\n",
    "\n",
    "training_samples = 200\n",
    "# Trains on 200 samples\n",
    "\n",
    "validation_samples = 10000\n",
    "# Validates on 10,000 samples\n",
    "\n",
    "max_words = 10000\n",
    "# Considers only the top 10,000 words in the dataset"
   ]
  },
  {
   "cell_type": "code",
   "execution_count": 11,
   "metadata": {
    "ExecuteTime": {
     "end_time": "2018-11-20T15:59:49.508788Z",
     "start_time": "2018-11-20T15:59:16.195281Z"
    },
    "collapsed": true
   },
   "outputs": [],
   "source": [
    "tokenizer = Tokenizer(num_words=max_words)\n",
    "tokenizer.fit_on_texts(texts)\n",
    "sequences = tokenizer.texts_to_sequences(texts)"
   ]
  },
  {
   "cell_type": "code",
   "execution_count": 12,
   "metadata": {
    "ExecuteTime": {
     "end_time": "2018-11-20T15:59:49.530654Z",
     "start_time": "2018-11-20T15:59:49.514155Z"
    }
   },
   "outputs": [
    {
     "data": {
      "text/plain": [
       "25000"
      ]
     },
     "execution_count": 12,
     "metadata": {},
     "output_type": "execute_result"
    }
   ],
   "source": [
    "len(sequences)"
   ]
  },
  {
   "cell_type": "code",
   "execution_count": 13,
   "metadata": {
    "ExecuteTime": {
     "end_time": "2018-11-20T15:59:49.627758Z",
     "start_time": "2018-11-20T15:59:49.536601Z"
    }
   },
   "outputs": [
    {
     "data": {
      "text/plain": [
       "list"
      ]
     },
     "execution_count": 13,
     "metadata": {},
     "output_type": "execute_result"
    }
   ],
   "source": [
    "type(sequences[5])"
   ]
  },
  {
   "cell_type": "code",
   "execution_count": 14,
   "metadata": {
    "ExecuteTime": {
     "end_time": "2018-11-20T15:59:49.720349Z",
     "start_time": "2018-11-20T15:59:49.647428Z"
    }
   },
   "outputs": [
    {
     "data": {
      "text/plain": [
       "158"
      ]
     },
     "execution_count": 14,
     "metadata": {},
     "output_type": "execute_result"
    }
   ],
   "source": [
    "len(sequences[5])"
   ]
  },
  {
   "cell_type": "code",
   "execution_count": 15,
   "metadata": {
    "ExecuteTime": {
     "end_time": "2018-11-20T15:59:49.796598Z",
     "start_time": "2018-11-20T15:59:49.734992Z"
    }
   },
   "outputs": [
    {
     "name": "stdout",
     "output_type": "stream",
     "text": [
      "[35, 384, 69, 377, 122, 31, 658, 12, 10, 216, 11, 17, 14, 170, 4, 3, 4844, 10, 13, 63, 1095, 28, 475, 5120, 248, 2, 35, 10, 117, 5, 1, 17, 2354, 1128, 10, 1800, 1, 6887, 48, 1, 246, 17, 26, 66, 8, 2043, 13, 206, 26, 2525, 69, 117, 5, 2039, 3432, 26, 576, 69, 12, 2697, 1, 297, 2354, 26, 298, 9, 59, 27, 352, 5, 2903, 50, 45, 10, 4381, 5, 103, 1, 223, 17, 35, 103, 9, 10, 119, 15, 875, 7, 7, 11, 17, 6, 391, 555, 370, 57, 10, 89, 356, 5, 137, 80, 111, 1371, 329, 1, 82, 853, 1, 635, 94, 54, 278, 1, 113, 13, 391, 10, 121, 9, 13, 421, 5, 27, 3, 209, 18, 1, 2997, 4, 1, 290, 106, 13, 22, 235, 350, 5, 103, 9, 14, 139, 5, 460, 30, 18, 42, 35, 75, 12, 9, 215, 57, 160, 8, 12, 93, 794]\n"
     ]
    }
   ],
   "source": [
    "print(sequences[5])"
   ]
  },
  {
   "cell_type": "code",
   "execution_count": 16,
   "metadata": {
    "ExecuteTime": {
     "end_time": "2018-11-20T15:59:49.865070Z",
     "start_time": "2018-11-20T15:59:49.801396Z"
    }
   },
   "outputs": [
    {
     "name": "stdout",
     "output_type": "stream",
     "text": [
      "Found 88582 unique tokens.\n"
     ]
    }
   ],
   "source": [
    "word_index = tokenizer.word_index\n",
    "print('Found %s unique tokens.' % len(word_index))"
   ]
  },
  {
   "cell_type": "code",
   "execution_count": 17,
   "metadata": {
    "ExecuteTime": {
     "end_time": "2018-11-20T15:59:50.025074Z",
     "start_time": "2018-11-20T15:59:49.871131Z"
    }
   },
   "outputs": [
    {
     "data": {
      "text/plain": [
       "1427"
      ]
     },
     "execution_count": 17,
     "metadata": {},
     "output_type": "execute_result"
    }
   ],
   "source": [
    "word_index['building']"
   ]
  },
  {
   "cell_type": "code",
   "execution_count": 18,
   "metadata": {
    "ExecuteTime": {
     "end_time": "2018-11-20T15:59:51.530426Z",
     "start_time": "2018-11-20T15:59:50.037979Z"
    },
    "collapsed": true
   },
   "outputs": [],
   "source": [
    "data = pad_sequences(sequences, maxlen=maxlen)"
   ]
  },
  {
   "cell_type": "code",
   "execution_count": 19,
   "metadata": {
    "ExecuteTime": {
     "end_time": "2018-11-20T15:59:51.555071Z",
     "start_time": "2018-11-20T15:59:51.535940Z"
    }
   },
   "outputs": [
    {
     "data": {
      "text/plain": [
       "array([2588,  866,   20, 1160,  705,  163,  518,  165,   37,    1, 1357,\n",
       "       7095,   16, 2278,   10,  188,  835,  146,    9,  206,    1, 1699,\n",
       "          4, 9458,    2,  234,   42, 4043,   57,   16,    9,  692,  800,\n",
       "        885,    8,  359,    6,   46,  429,    4,   60, 9878,    1,  356,\n",
       "         15,  153,    5,  190,   20,   75,   99,   37,   11,    8,  657,\n",
       "          5,  987,   15,   65, 3348,  456,   16,   91, 2652,    5,    2,\n",
       "       1275,  754,   31,    1,  127,  143,  317, 1014,    5,   64,    3,\n",
       "       5845, 3626, 2052,  118,   26, 1542,   24, 1040,  348,  953, 2485,\n",
       "        844,   10,   97,   25, 6041,   22,   15,   11,    8, 5514,   18,\n",
       "       5675])"
      ]
     },
     "execution_count": 19,
     "metadata": {},
     "output_type": "execute_result"
    }
   ],
   "source": [
    "data[2]"
   ]
  },
  {
   "cell_type": "code",
   "execution_count": 20,
   "metadata": {
    "ExecuteTime": {
     "end_time": "2018-11-20T15:59:51.662203Z",
     "start_time": "2018-11-20T15:59:51.565562Z"
    },
    "collapsed": true
   },
   "outputs": [],
   "source": [
    "labels = np.asarray(labels)"
   ]
  },
  {
   "cell_type": "code",
   "execution_count": 21,
   "metadata": {
    "ExecuteTime": {
     "end_time": "2018-11-20T15:59:51.751124Z",
     "start_time": "2018-11-20T15:59:51.685786Z"
    }
   },
   "outputs": [
    {
     "name": "stdout",
     "output_type": "stream",
     "text": [
      "Shape of data tensor: (25000, 100)\n",
      "Shape of label tensor: (25000,)\n"
     ]
    }
   ],
   "source": [
    "print('Shape of data tensor:', data.shape)\n",
    "print('Shape of label tensor:', labels.shape)"
   ]
  },
  {
   "cell_type": "markdown",
   "metadata": {},
   "source": [
    "#### Shuffle data:"
   ]
  },
  {
   "cell_type": "code",
   "execution_count": 22,
   "metadata": {
    "ExecuteTime": {
     "end_time": "2018-11-20T15:59:51.866583Z",
     "start_time": "2018-11-20T15:59:51.759332Z"
    },
    "collapsed": true
   },
   "outputs": [],
   "source": [
    "indices = np.arange(data.shape[0])\n",
    "np.random.shuffle(indices)\n",
    "\n",
    "data = data[indices]\n",
    "labels = labels[indices]"
   ]
  },
  {
   "cell_type": "markdown",
   "metadata": {},
   "source": [
    "#### Split data in training and validation"
   ]
  },
  {
   "cell_type": "code",
   "execution_count": 23,
   "metadata": {
    "ExecuteTime": {
     "end_time": "2018-11-20T15:59:51.958004Z",
     "start_time": "2018-11-20T15:59:51.884075Z"
    },
    "collapsed": true
   },
   "outputs": [],
   "source": [
    "x_train = data[:training_samples]\n",
    "y_train = labels[:training_samples]\n",
    "\n",
    "x_val   = data[training_samples: training_samples + validation_samples]\n",
    "y_val   = labels[training_samples: training_samples + validation_samples]"
   ]
  },
  {
   "cell_type": "markdown",
   "metadata": {},
   "source": [
    "# Download glove databse"
   ]
  },
  {
   "cell_type": "code",
   "execution_count": 24,
   "metadata": {
    "ExecuteTime": {
     "end_time": "2018-11-20T15:59:52.064594Z",
     "start_time": "2018-11-20T15:59:51.972373Z"
    },
    "collapsed": true
   },
   "outputs": [],
   "source": [
    "glove_zipfolder = 'http://nlp.stanford.edu/data/glove.6B.zip'"
   ]
  },
  {
   "cell_type": "code",
   "execution_count": 25,
   "metadata": {
    "ExecuteTime": {
     "end_time": "2018-11-20T15:59:52.179555Z",
     "start_time": "2018-11-20T15:59:52.098616Z"
    },
    "collapsed": true
   },
   "outputs": [],
   "source": [
    "glove_dir = './glove/'\n",
    "glove_file = glove_dir + 'glove.6B.zip'"
   ]
  },
  {
   "cell_type": "code",
   "execution_count": 26,
   "metadata": {
    "ExecuteTime": {
     "end_time": "2018-11-20T15:59:52.312499Z",
     "start_time": "2018-11-20T15:59:52.189236Z"
    }
   },
   "outputs": [],
   "source": [
    "if not os.path.exists(glove_dir):\n",
    "    os.mkdir(glove_dir)\n",
    "    \n",
    "    os.system(\"wget --no-check-certificate \" + glove_zipfolder +' -O '+ glove_file)\n",
    "    print(\"Data downloaded!\")\n",
    "    \n",
    "    with zipfile.ZipFile(glove_file,\"r\") as zip_ref:\n",
    "        zip_ref.extractall(glove_dir)\n",
    "    print(\"Folder unzipped!\")"
   ]
  },
  {
   "cell_type": "markdown",
   "metadata": {},
   "source": [
    "# Parsing the GloVe word-embeddings file"
   ]
  },
  {
   "cell_type": "code",
   "execution_count": 27,
   "metadata": {
    "ExecuteTime": {
     "end_time": "2018-11-20T16:00:42.282929Z",
     "start_time": "2018-11-20T15:59:52.318841Z"
    }
   },
   "outputs": [],
   "source": [
    "embeddings_index = {}\n",
    "f = open(os.path.join(glove_dir, 'glove.6B.100d.txt'))\n",
    "for line in f:\n",
    "    values = line.split()\n",
    "    word = values[0]\n",
    "    coefs = np.asarray(values[1:], dtype='float32')\n",
    "    embeddings_index[word] = coefs\n",
    "f.close()"
   ]
  },
  {
   "cell_type": "code",
   "execution_count": 28,
   "metadata": {
    "ExecuteTime": {
     "end_time": "2018-11-20T16:00:42.299936Z",
     "start_time": "2018-11-20T16:00:42.287777Z"
    }
   },
   "outputs": [
    {
     "name": "stdout",
     "output_type": "stream",
     "text": [
      "Found 400000 word vectors.\n"
     ]
    }
   ],
   "source": [
    "print('Found %s word vectors.' % len(embeddings_index))"
   ]
  },
  {
   "cell_type": "code",
   "execution_count": 29,
   "metadata": {
    "ExecuteTime": {
     "end_time": "2018-11-20T16:00:42.415530Z",
     "start_time": "2018-11-20T16:00:42.308098Z"
    }
   },
   "outputs": [
    {
     "data": {
      "text/plain": [
       "array([ 0.6005   ,  0.33204  , -0.49294  ,  0.75419  ,  0.048023 ,\n",
       "       -0.083043 , -0.39718  ,  0.37912  ,  0.38602  ,  1.0305   ,\n",
       "        0.89795  , -0.4345   ,  0.25965  ,  0.37307  , -0.28395  ,\n",
       "       -0.32199  ,  0.23112  ,  0.66848  , -0.44291  , -0.43475  ,\n",
       "       -0.046315 ,  0.18962  ,  0.045551 , -0.79974  ,  0.19711  ,\n",
       "       -0.90737  , -0.42556  , -0.18526  , -0.83046  ,  0.52057  ,\n",
       "       -0.085309 ,  0.37004  ,  0.37261  ,  0.46791  , -0.011974 ,\n",
       "       -0.22894  ,  0.062635 , -0.52736  ,  0.13784  ,  0.11571  ,\n",
       "       -0.085667 , -0.82202  ,  0.3249   ,  0.16222  ,  0.97131  ,\n",
       "        0.34441  ,  0.055378 ,  0.45237  ,  0.16631  , -0.41808  ,\n",
       "       -0.014013 , -0.43101  , -0.0046088,  1.2581   , -0.43896  ,\n",
       "       -2.8801   , -0.27207  , -0.41413  ,  1.7549   ,  0.32325  ,\n",
       "       -0.54772  ,  0.6094   ,  0.29493  ,  0.88821  ,  0.51222  ,\n",
       "       -0.083026 ,  0.46329  ,  0.35006  ,  0.044343 , -0.42597  ,\n",
       "        0.30314  ,  0.016289 , -0.17063  , -0.84313  ,  0.42691  ,\n",
       "       -0.44621  ,  0.72385  ,  0.53712  , -1.0227   ,  0.16039  ,\n",
       "        0.24787  ,  0.1896   , -0.15978  ,  0.335    , -0.25762  ,\n",
       "        0.59294  ,  0.31852  , -0.96735  , -0.31029  , -0.24304  ,\n",
       "        0.87434  , -0.89644  ,  0.33386  ,  0.45251  , -0.68254  ,\n",
       "       -0.080321 ,  0.2321   , -0.6033   ,  1.1377   ,  0.30186  ],\n",
       "      dtype=float32)"
      ]
     },
     "execution_count": 29,
     "metadata": {},
     "output_type": "execute_result"
    }
   ],
   "source": [
    "embeddings_index['building']"
   ]
  },
  {
   "cell_type": "markdown",
   "metadata": {},
   "source": [
    "# Preparing the GloVe word-embeddings matrix"
   ]
  },
  {
   "cell_type": "code",
   "execution_count": 30,
   "metadata": {
    "ExecuteTime": {
     "end_time": "2018-11-20T16:00:42.497150Z",
     "start_time": "2018-11-20T16:00:42.421186Z"
    },
    "collapsed": true
   },
   "outputs": [],
   "source": [
    "embedding_dim = 100"
   ]
  },
  {
   "cell_type": "markdown",
   "metadata": {},
   "source": [
    "### Note: here I am associating to each word of my text, a vector from glove"
   ]
  },
  {
   "cell_type": "code",
   "execution_count": 31,
   "metadata": {
    "ExecuteTime": {
     "end_time": "2018-11-20T16:00:42.764897Z",
     "start_time": "2018-11-20T16:00:42.505931Z"
    },
    "collapsed": true
   },
   "outputs": [],
   "source": [
    "embedding_matrix = np.zeros((max_words, embedding_dim))\n",
    "for word, i in word_index.items():\n",
    "    if i < max_words:\n",
    "        embedding_vector = embeddings_index.get(word)\n",
    "        if embedding_vector is not None:\n",
    "            embedding_matrix[i] = embedding_vector"
   ]
  },
  {
   "cell_type": "markdown",
   "metadata": {},
   "source": [
    "# Model definition"
   ]
  },
  {
   "cell_type": "code",
   "execution_count": 32,
   "metadata": {
    "ExecuteTime": {
     "end_time": "2018-11-20T16:00:51.525868Z",
     "start_time": "2018-11-20T16:00:42.770936Z"
    },
    "collapsed": true
   },
   "outputs": [],
   "source": [
    "model = Sequential()\n",
    "model.add(Embedding(max_words, embedding_dim, input_length=maxlen))\n",
    "model.add(Flatten())\n",
    "model.add(Dense(32, activation='relu'))\n",
    "model.add(Dense(1, activation='sigmoid'))"
   ]
  },
  {
   "cell_type": "code",
   "execution_count": 33,
   "metadata": {
    "ExecuteTime": {
     "end_time": "2018-11-20T16:00:52.226271Z",
     "start_time": "2018-11-20T16:00:51.531395Z"
    }
   },
   "outputs": [
    {
     "name": "stdout",
     "output_type": "stream",
     "text": [
      "_________________________________________________________________\n",
      "Layer (type)                 Output Shape              Param #   \n",
      "=================================================================\n",
      "embedding_1 (Embedding)      (None, 100, 100)          1000000   \n",
      "_________________________________________________________________\n",
      "flatten_1 (Flatten)          (None, 10000)             0         \n",
      "_________________________________________________________________\n",
      "dense_1 (Dense)              (None, 32)                320032    \n",
      "_________________________________________________________________\n",
      "dense_2 (Dense)              (None, 1)                 33        \n",
      "=================================================================\n",
      "Total params: 1,320,065\n",
      "Trainable params: 1,320,065\n",
      "Non-trainable params: 0\n",
      "_________________________________________________________________\n"
     ]
    }
   ],
   "source": [
    "model.summary()"
   ]
  },
  {
   "cell_type": "markdown",
   "metadata": {},
   "source": [
    "# Loading pretrained word embeddings into the Embedding layer"
   ]
  },
  {
   "cell_type": "code",
   "execution_count": 34,
   "metadata": {
    "ExecuteTime": {
     "end_time": "2018-11-20T16:00:52.304726Z",
     "start_time": "2018-11-20T16:00:52.245651Z"
    },
    "collapsed": true
   },
   "outputs": [],
   "source": [
    "model.layers[0].set_weights([embedding_matrix])\n",
    "model.layers[0].trainable = False"
   ]
  },
  {
   "cell_type": "markdown",
   "metadata": {},
   "source": [
    "# Training and evaluation"
   ]
  },
  {
   "cell_type": "code",
   "execution_count": 35,
   "metadata": {
    "ExecuteTime": {
     "end_time": "2018-11-20T16:00:52.781374Z",
     "start_time": "2018-11-20T16:00:52.323791Z"
    },
    "collapsed": true
   },
   "outputs": [],
   "source": [
    "model.compile(optimizer='rmsprop', loss='binary_crossentropy', metrics=['acc'])"
   ]
  },
  {
   "cell_type": "code",
   "execution_count": 36,
   "metadata": {
    "ExecuteTime": {
     "end_time": "2018-11-20T16:01:29.155397Z",
     "start_time": "2018-11-20T16:00:52.788493Z"
    }
   },
   "outputs": [
    {
     "name": "stdout",
     "output_type": "stream",
     "text": [
      "Train on 200 samples, validate on 10000 samples\n",
      "Epoch 1/10\n",
      "200/200 [==============================] - 3s 15ms/step - loss: 2.2307 - acc: 0.4300 - val_loss: 0.6913 - val_acc: 0.5179\n",
      "Epoch 2/10\n",
      "200/200 [==============================] - 3s 14ms/step - loss: 0.5979 - acc: 0.7300 - val_loss: 0.9215 - val_acc: 0.5069\n",
      "Epoch 3/10\n",
      "200/200 [==============================] - 3s 15ms/step - loss: 0.5014 - acc: 0.7450 - val_loss: 0.7517 - val_acc: 0.5228\n",
      "Epoch 4/10\n",
      "200/200 [==============================] - 3s 14ms/step - loss: 0.4591 - acc: 0.7950 - val_loss: 0.7522 - val_acc: 0.5338\n",
      "Epoch 5/10\n",
      "200/200 [==============================] - 3s 13ms/step - loss: 0.3834 - acc: 0.8300 - val_loss: 1.0179 - val_acc: 0.5117\n",
      "Epoch 6/10\n",
      "200/200 [==============================] - 3s 14ms/step - loss: 0.1727 - acc: 0.9750 - val_loss: 1.0237 - val_acc: 0.5071\n",
      "Epoch 7/10\n",
      "200/200 [==============================] - 2s 12ms/step - loss: 0.1848 - acc: 0.9200 - val_loss: 1.3910 - val_acc: 0.5043\n",
      "Epoch 8/10\n",
      "200/200 [==============================] - 2s 12ms/step - loss: 0.1262 - acc: 0.9550 - val_loss: 1.4386 - val_acc: 0.5079\n",
      "Epoch 9/10\n",
      "200/200 [==============================] - 2s 12ms/step - loss: 0.1112 - acc: 0.9650 - val_loss: 0.7619 - val_acc: 0.5618\n",
      "Epoch 10/10\n",
      "200/200 [==============================] - 2s 12ms/step - loss: 0.0386 - acc: 1.0000 - val_loss: 1.3705 - val_acc: 0.5162\n"
     ]
    }
   ],
   "source": [
    "history = model.fit(x_train, y_train, epochs=10, batch_size=32, validation_data=(x_val, y_val))"
   ]
  },
  {
   "cell_type": "code",
   "execution_count": 37,
   "metadata": {
    "ExecuteTime": {
     "end_time": "2018-11-20T16:01:29.535471Z",
     "start_time": "2018-11-20T16:01:29.169071Z"
    },
    "collapsed": true
   },
   "outputs": [],
   "source": [
    "model.save_weights('pre_trained_glove_model.h5')"
   ]
  },
  {
   "cell_type": "markdown",
   "metadata": {},
   "source": [
    "# Plotting the results"
   ]
  },
  {
   "cell_type": "code",
   "execution_count": 38,
   "metadata": {
    "ExecuteTime": {
     "end_time": "2018-11-20T16:01:30.781414Z",
     "start_time": "2018-11-20T16:01:29.541798Z"
    }
   },
   "outputs": [
    {
     "data": {
      "image/png": "[encoded data removed]",
      "text/plain": [
       "<Figure size 432x288 with 1 Axes>"
      ]
     },
     "metadata": {},
     "output_type": "display_data"
    },
    {
     "data": {
      "image/png": "[encoded data removed]",
      "text/plain": [
       "<Figure size 432x288 with 1 Axes>"
      ]
     },
     "metadata": {},
     "output_type": "display_data"
    }
   ],
   "source": [
    "acc = history.history['acc']\n",
    "val_acc = history.history['val_acc']\n",
    "loss = history.history['loss']\n",
    "val_loss = history.history['val_loss']\n",
    "epochs = range(1, len(acc) + 1)\n",
    "\n",
    "plt.plot(epochs, acc, 'bo', label='Training acc')\n",
    "plt.plot(epochs, val_acc, 'b', label='Validation acc')\n",
    "plt.title('Training and validation accuracy')\n",
    "plt.legend()\n",
    "plt.figure()\n",
    "plt.plot(epochs, loss, 'bo', label='Training loss')\n",
    "plt.plot(epochs, val_loss, 'b', label='Validation loss')\n",
    "plt.title('Training and validation loss')\n",
    "plt.legend()\n",
    "plt.show()"
   ]
  },
  {
   "cell_type": "markdown",
   "metadata": {},
   "source": [
    "# Training the same model without pretrained word embeddings"
   ]
  },
  {
   "cell_type": "code",
   "execution_count": 39,
   "metadata": {
    "ExecuteTime": {
     "end_time": "2018-11-20T16:01:31.867966Z",
     "start_time": "2018-11-20T16:01:30.789039Z"
    },
    "collapsed": true
   },
   "outputs": [],
   "source": [
    "model = Sequential()\n",
    "model.add(Embedding(max_words, embedding_dim, input_length=maxlen))\n",
    "model.add(Flatten())\n",
    "model.add(Dense(32, activation='relu'))\n",
    "model.add(Dense(1, activation='sigmoid'))"
   ]
  },
  {
   "cell_type": "code",
   "execution_count": 40,
   "metadata": {
    "ExecuteTime": {
     "end_time": "2018-11-20T16:01:32.331821Z",
     "start_time": "2018-11-20T16:01:31.888690Z"
    }
   },
   "outputs": [
    {
     "name": "stdout",
     "output_type": "stream",
     "text": [
      "_________________________________________________________________\n",
      "Layer (type)                 Output Shape              Param #   \n",
      "=================================================================\n",
      "embedding_2 (Embedding)      (None, 100, 100)          1000000   \n",
      "_________________________________________________________________\n",
      "flatten_2 (Flatten)          (None, 10000)             0         \n",
      "_________________________________________________________________\n",
      "dense_3 (Dense)              (None, 32)                320032    \n",
      "_________________________________________________________________\n",
      "dense_4 (Dense)              (None, 1)                 33        \n",
      "=================================================================\n",
      "Total params: 1,320,065\n",
      "Trainable params: 1,320,065\n",
      "Non-trainable params: 0\n",
      "_________________________________________________________________\n"
     ]
    }
   ],
   "source": [
    "model.summary()"
   ]
  },
  {
   "cell_type": "code",
   "execution_count": 41,
   "metadata": {
    "ExecuteTime": {
     "end_time": "2018-11-20T16:01:32.425399Z",
     "start_time": "2018-11-20T16:01:32.341702Z"
    },
    "collapsed": true
   },
   "outputs": [],
   "source": [
    "model.compile(optimizer='rmsprop', loss='binary_crossentropy', metrics=['acc'])"
   ]
  },
  {
   "cell_type": "code",
   "execution_count": 42,
   "metadata": {
    "ExecuteTime": {
     "end_time": "2018-11-20T16:02:05.303089Z",
     "start_time": "2018-11-20T16:01:32.439140Z"
    }
   },
   "outputs": [
    {
     "name": "stdout",
     "output_type": "stream",
     "text": [
      "Train on 200 samples, validate on 10000 samples\n",
      "Epoch 1/10\n",
      "200/200 [==============================] - 3s 14ms/step - loss: 0.6890 - acc: 0.5300 - val_loss: 0.6922 - val_acc: 0.5151\n",
      "Epoch 2/10\n",
      "200/200 [==============================] - 3s 15ms/step - loss: 0.4931 - acc: 0.9650 - val_loss: 0.7112 - val_acc: 0.5071\n",
      "Epoch 3/10\n",
      "200/200 [==============================] - 3s 14ms/step - loss: 0.3022 - acc: 1.0000 - val_loss: 0.7283 - val_acc: 0.5090\n",
      "Epoch 4/10\n",
      "200/200 [==============================] - 3s 13ms/step - loss: 0.1624 - acc: 1.0000 - val_loss: 0.7143 - val_acc: 0.5245\n",
      "Epoch 5/10\n",
      "200/200 [==============================] - 3s 14ms/step - loss: 0.0844 - acc: 1.0000 - val_loss: 0.7107 - val_acc: 0.5351\n",
      "Epoch 6/10\n",
      "200/200 [==============================] - 3s 14ms/step - loss: 0.0442 - acc: 1.0000 - val_loss: 0.7291 - val_acc: 0.5291\n",
      "Epoch 7/10\n",
      "200/200 [==============================] - 3s 15ms/step - loss: 0.0238 - acc: 1.0000 - val_loss: 0.7453 - val_acc: 0.5295\n",
      "Epoch 8/10\n",
      "200/200 [==============================] - 3s 14ms/step - loss: 0.0136 - acc: 1.0000 - val_loss: 0.7958 - val_acc: 0.5143\n",
      "Epoch 9/10\n",
      "200/200 [==============================] - 3s 14ms/step - loss: 0.0082 - acc: 1.0000 - val_loss: 0.7449 - val_acc: 0.5334\n",
      "Epoch 10/10\n",
      "200/200 [==============================] - 3s 14ms/step - loss: 0.0048 - acc: 1.0000 - val_loss: 0.7759 - val_acc: 0.5314\n"
     ]
    }
   ],
   "source": [
    "history = model.fit(x_train, y_train, epochs=10, batch_size=32, validation_data=(x_val, y_val))"
   ]
  },
  {
   "cell_type": "code",
   "execution_count": 43,
   "metadata": {
    "ExecuteTime": {
     "end_time": "2018-11-20T16:02:06.208200Z",
     "start_time": "2018-11-20T16:02:05.313197Z"
    }
   },
   "outputs": [
    {
     "data": {
      "image/png": "[encoded data removed]",
      "text/plain": [
       "<Figure size 432x288 with 1 Axes>"
      ]
     },
     "metadata": {},
     "output_type": "display_data"
    },
    {
     "data": {
      "image/png": "[encoded data removed]",
      "text/plain": [
       "<Figure size 432x288 with 1 Axes>"
      ]
     },
     "metadata": {},
     "output_type": "display_data"
    }
   ],
   "source": [
    "acc = history.history['acc']\n",
    "val_acc = history.history['val_acc']\n",
    "loss = history.history['loss']\n",
    "val_loss = history.history['val_loss']\n",
    "epochs = range(1, len(acc) + 1)\n",
    "\n",
    "plt.plot(epochs, acc, 'bo', label='Training acc')\n",
    "plt.plot(epochs, val_acc, 'b', label='Validation acc')\n",
    "plt.title('Training and validation accuracy')\n",
    "plt.legend()\n",
    "plt.figure()\n",
    "plt.plot(epochs, loss, 'bo', label='Training loss')\n",
    "plt.plot(epochs, val_loss, 'b', label='Validation loss')\n",
    "plt.title('Training and validation loss')\n",
    "plt.legend()\n",
    "plt.show()"
   ]
  },
  {
   "cell_type": "markdown",
   "metadata": {},
   "source": [
    "### Note: in this case there is no grat difference between pretrained and not. This because the training sample is very small!"
   ]
  },
  {
   "cell_type": "markdown",
   "metadata": {},
   "source": [
    "# Finally, let’s evaluate the model on the test data."
   ]
  },
  {
   "cell_type": "markdown",
   "metadata": {
    "ExecuteTime": {
     "end_time": "2018-11-20T15:48:46.566172Z",
     "start_time": "2018-11-20T15:48:46.560765Z"
    }
   },
   "source": [
    "## Tokenizing the data of the test set"
   ]
  },
  {
   "cell_type": "code",
   "execution_count": 44,
   "metadata": {
    "ExecuteTime": {
     "end_time": "2018-11-20T16:02:06.219955Z",
     "start_time": "2018-11-20T16:02:06.213886Z"
    },
    "collapsed": true
   },
   "outputs": [],
   "source": [
    "test_dir = os.path.join(imdb_dir, 'test')"
   ]
  },
  {
   "cell_type": "code",
   "execution_count": 45,
   "metadata": {
    "ExecuteTime": {
     "end_time": "2018-11-20T16:02:30.531995Z",
     "start_time": "2018-11-20T16:02:06.225675Z"
    },
    "collapsed": true
   },
   "outputs": [],
   "source": [
    "labels = []\n",
    "texts = []\n",
    "for label_type in ['neg', 'pos']:\n",
    "    dir_name = os.path.join(test_dir, label_type)\n",
    "    for fname in sorted(os.listdir(dir_name)):\n",
    "        if fname[-4:] == '.txt':\n",
    "            f = open(os.path.join(dir_name, fname))\n",
    "            texts.append(f.read())\n",
    "            f.close()\n",
    "            if label_type == 'neg':\n",
    "                labels.append(0)\n",
    "            else:\n",
    "                labels.append(1)\n",
    "\n",
    "sequences = tokenizer.texts_to_sequences(texts)\n",
    "x_test = pad_sequences(sequences, maxlen=maxlen)\n",
    "y_test = np.asarray(labels)"
   ]
  },
  {
   "cell_type": "markdown",
   "metadata": {},
   "source": [
    "# Load and evaluate the first model"
   ]
  },
  {
   "cell_type": "code",
   "execution_count": 46,
   "metadata": {
    "ExecuteTime": {
     "end_time": "2018-11-20T16:02:30.627941Z",
     "start_time": "2018-11-20T16:02:30.544259Z"
    },
    "collapsed": true
   },
   "outputs": [],
   "source": [
    "model.load_weights('pre_trained_glove_model.h5')"
   ]
  },
  {
   "cell_type": "code",
   "execution_count": 47,
   "metadata": {
    "ExecuteTime": {
     "end_time": "2018-11-20T16:02:41.531123Z",
     "start_time": "2018-11-20T16:02:30.642694Z"
    }
   },
   "outputs": [
    {
     "name": "stdout",
     "output_type": "stream",
     "text": [
      "25000/25000 [==============================] - 11s 432us/step\n"
     ]
    },
    {
     "data": {
      "text/plain": [
       "[1.3949954720211029, 0.51324]"
      ]
     },
     "execution_count": 47,
     "metadata": {},
     "output_type": "execute_result"
    }
   ],
   "source": [
    "model.evaluate(x_test, y_test)"
   ]
  },
  {
   "cell_type": "code",
   "execution_count": null,
   "metadata": {
    "collapsed": true
   },
   "outputs": [],
   "source": []
  }
 ],
 "metadata": {
  "kernelspec": {
   "display_name": "Python [conda env:deeplearning_theano]",
   "language": "python",
   "name": "conda-env-deeplearning_theano-py"
  },
  "language_info": {
   "codemirror_mode": {
    "name": "ipython",
    "version": 3
   },
   "file_extension": ".py",
   "mimetype": "text/x-python",
   "name": "python",
   "nbconvert_exporter": "python",
   "pygments_lexer": "ipython3",
   "version": "3.7.0"
  }
 },
 "nbformat": 4,
 "nbformat_minor": 2
}
